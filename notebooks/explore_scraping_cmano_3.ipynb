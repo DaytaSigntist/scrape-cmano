{
 "cells": [
  {
   "cell_type": "markdown",
   "metadata": {
    "toc": true
   },
   "source": [
    "<h1>Table of Contents<span class=\"tocSkip\"></span></h1>\n",
    "<div class=\"toc\"><ul class=\"toc-item\"><li><ul class=\"toc-item\"><li><span><a href=\"#Imports\" data-toc-modified-id=\"Imports-0.1\"><span class=\"toc-item-num\">0.1&nbsp;&nbsp;</span>Imports</a></span></li><li><span><a href=\"#Set-URL\" data-toc-modified-id=\"Set-URL-0.2\"><span class=\"toc-item-num\">0.2&nbsp;&nbsp;</span>Set URL</a></span></li><li><span><a href=\"#Scrape-Aircraft\" data-toc-modified-id=\"Scrape-Aircraft-0.3\"><span class=\"toc-item-num\">0.3&nbsp;&nbsp;</span>Scrape Aircraft</a></span></li><li><span><a href=\"#Table-3\" data-toc-modified-id=\"Table-3-0.4\"><span class=\"toc-item-num\">0.4&nbsp;&nbsp;</span>Table 3</a></span></li><li><span><a href=\"#Extract-text-from-Table-3\" data-toc-modified-id=\"Extract-text-from-Table-3-0.5\"><span class=\"toc-item-num\">0.5&nbsp;&nbsp;</span>Extract text from Table 3</a></span></li><li><span><a href=\"#Not-normal-example\" data-toc-modified-id=\"Not-normal-example-0.6\"><span class=\"toc-item-num\">0.6&nbsp;&nbsp;</span>Not normal example</a></span></li><li><span><a href=\"#Normal-example\" data-toc-modified-id=\"Normal-example-0.7\"><span class=\"toc-item-num\">0.7&nbsp;&nbsp;</span>Normal example</a></span></li></ul></li><li><span><a href=\"#Wrap-up-into-function\" data-toc-modified-id=\"Wrap-up-into-function-1\"><span class=\"toc-item-num\">1&nbsp;&nbsp;</span>Wrap up into function</a></span></li></ul></div>"
   ]
  },
  {
   "cell_type": "markdown",
   "metadata": {},
   "source": [
    "#### Imports"
   ]
  },
  {
   "cell_type": "code",
   "execution_count": 1,
   "metadata": {
    "ExecuteTime": {
     "end_time": "2020-08-28T15:34:57.897675Z",
     "start_time": "2020-08-28T15:34:57.326948Z"
    }
   },
   "outputs": [],
   "source": [
    "import logging\n",
    "import requests\n",
    "import urllib.request\n",
    "import time\n",
    "from bs4 import BeautifulSoup\n",
    "import pandas as pd\n",
    "import re"
   ]
  },
  {
   "cell_type": "code",
   "execution_count": 2,
   "metadata": {
    "ExecuteTime": {
     "end_time": "2020-08-28T15:34:57.919661Z",
     "start_time": "2020-08-28T15:34:57.917238Z"
    }
   },
   "outputs": [],
   "source": [
    "logging.basicConfig(level=logging.DEBUG)"
   ]
  },
  {
   "cell_type": "markdown",
   "metadata": {},
   "source": [
    "#### Set URL"
   ]
  },
  {
   "cell_type": "code",
   "execution_count": 3,
   "metadata": {
    "ExecuteTime": {
     "end_time": "2020-08-28T15:34:58.246896Z",
     "start_time": "2020-08-28T15:34:58.244731Z"
    }
   },
   "outputs": [],
   "source": [
    "url = 'http://cmano-db.com/'"
   ]
  },
  {
   "cell_type": "markdown",
   "metadata": {},
   "source": [
    "#### Scrape Aircraft"
   ]
  },
  {
   "cell_type": "code",
   "execution_count": 4,
   "metadata": {
    "ExecuteTime": {
     "end_time": "2020-08-28T15:34:59.079391Z",
     "start_time": "2020-08-28T15:34:59.077157Z"
    }
   },
   "outputs": [],
   "source": [
    "url_suffix_aircraft = 'aircraft/4354/'\n",
    "complete_url_aircraft = f'{url}{url_suffix_aircraft}'"
   ]
  },
  {
   "cell_type": "code",
   "execution_count": 5,
   "metadata": {
    "ExecuteTime": {
     "end_time": "2020-08-28T15:35:00.360604Z",
     "start_time": "2020-08-28T15:34:59.574895Z"
    }
   },
   "outputs": [
    {
     "name": "stderr",
     "output_type": "stream",
     "text": [
      "DEBUG:urllib3.connectionpool:Starting new HTTP connection (1): cmano-db.com:80\n",
      "DEBUG:urllib3.connectionpool:http://cmano-db.com:80 \"GET /aircraft/4354/ HTTP/1.1\" 200 None\n"
     ]
    },
    {
     "data": {
      "text/plain": [
       "<!DOCTYPE html>\n",
       "\n",
       "<html lang=\"en\">\n",
       "<head>\n",
       "<meta charset=\"utf-8\"/>\n",
       "<title>cmano-db.com</title>\n",
       "<base href=\"http://cmano-db.com/\"/>\n",
       "<meta content=\"width=device-width, initial-scale=1\" name=\"viewport\"/>\n",
       "<meta content=\"IE=edge\" http-equiv=\"X-UA-Compatible\">\n",
       "<link href=\"bootstrap.css\" media=\"screen\" rel=\"stylesheet\"/>\n",
       "<link href=\"custom.min.css\" rel=\"stylesheet\"/>\n",
       "<script src=\"https://code.jquery.com/jquery-1.10.2.min.js\"></script>\n",
       "<script src=\"js.cookie.js\"></script>\n",
       "<script src=\"https://cdnjs.cloudflare.com/ajax/libs/Chart.js/2.2.2/Chart.min.js\"></script>\n",
       "<link href=\"leaflet.css\" rel=\"stylesheet\">\n",
       "<script src=\"leaflet/js/leaflet.js\"></script>\n",
       "<link href=\"https://maxcdn.bootstrapcdn.com/font-awesome/4.5.0/css/font-awesome.min.css\" rel=\"stylesheet\"/>\n",
       "<style type=\"text/css\">\n",
       "\t\t.info_sensors {\n",
       "\t\t\tpadding: 3px 4px;\n",
       "\t\t\tfont: 13px/15px Arial, Helvetica, sans-serif;\n",
       "\t\t\tbackground: white;\n",
       "\t\t\tbackground: rgba(255,255,255,0.8);\n",
       "\t\t\tbox-shadow: 0 0 15px rgba(0,0,0,0.2);\n",
       "\t\t\tborder-radius: 5px;\n",
       "\t\t\twidth: 55px;\n",
       "\t\t}\n",
       "\t\t.info_weapons {\n",
       "\t\t\tpadding: 3px 4px;\n",
       "\t\t\tfont: 13px/15px Arial, Helvetica, sans-serif;\n",
       "\t\t\tbackground: white;\n",
       "\t\t\tbackground: rgba(255,255,255,0.8);\n",
       "\t\t\tbox-shadow: 0 0 15px rgba(0,0,0,0.2);\n",
       "\t\t\tborder-radius: 5px;\n",
       "\t\t\twidth: 62px;\n",
       "\t\t}\n",
       "\t\t.legend {\n",
       "\t\t\tline-height: 18px;\n",
       "\t\t\tcolor: #555;\n",
       "\t\t}\n",
       "\t\t#list {\n",
       "\t\t\tdisplay: none;\n",
       "\t\t}\n",
       "\t\t#preview {\n",
       "\t\t\tposition: absolute;\n",
       "\t\t\tborder: 1px solid #000000;\n",
       "\t\t\tbackground: #333;\n",
       "\t\t\tpadding: 5px;\n",
       "\t\t\tdisplay: none;\n",
       "\t\t\tcolor: #fff;\n",
       "\t\t\tmax-width: 415px;\n",
       "\t\t\tz-index: 9999;\n",
       "\t\t}\n",
       "\t\t#preview img {\n",
       "\t\t\tmax-width: 400px;\n",
       "\t\t\tpadding: 0px;\n",
       "\t\t\tmargin: 0px;\n",
       "\t\t}\n",
       "\n",
       "\t\t#description > div > div > div.modal-body > p {\n",
       "\t\t\toverflow: auto;\n",
       "\t\t}\n",
       "\t</style>\n",
       "<script type=\"text/javascript\">\n",
       "var ESC_MAP = {\n",
       "    '&': '&amp;',\n",
       "    '<': '&lt;',\n",
       "    '>': '&gt;',\n",
       "    '\"': '&quot;',\n",
       "    \"'\": '&#39;'\n",
       "};\n",
       "\n",
       "function escapeHTML(s, forAttribute) {\n",
       "    return s.replace(forAttribute ? /[&<>'\"]/g : /[&<>]/g, function(c) {\n",
       "        return ESC_MAP[c];\n",
       "    });\n",
       "}\n",
       "\n",
       "$(document).ready(function() {\n",
       "\n",
       "\t$(\"#list\").show();\n",
       "\n",
       "    $(\"#t_list\").click(function(){\n",
       "        $(\"#list\").toggle();\n",
       "    });\n",
       "\n",
       "    $(\"#reset\").click(function(){\n",
       "        $(\"#country\").html(\"\");\n",
       "        $(\"#item\").html(\"\");\n",
       "        $('#submit').attr(\"disabled\", true);\n",
       "    });\n",
       "\n",
       "\t\t\t$(\"#list\").hide();\n",
       "\t\t\n",
       "\t$('#submit').attr(\"disabled\", true);\n",
       "\n",
       "\t$(\"#type\").change(function()\n",
       "\t{\n",
       "\t\t$(\"#country\").html(\"\");\n",
       "\t\t$(\"#item\").html(\"\");\n",
       "\n",
       "\t\tvar id=$(this).val();\n",
       "\t\tvar dataString = 'type='+ id;\n",
       "\n",
       "\t\t$.ajax\n",
       "\t\t({\n",
       "\t\t\ttype: \"GET\",\n",
       "\t\t\turl: \"d.php\",\n",
       "\t\t\tdata: dataString,\n",
       "\t\t\tcache: false,\n",
       "\t\t\tbeforeSend: function() {\n",
       "\t\t\t\t$(\"#wait\").css(\"display\", \"block\");\n",
       "\t\t\t},\n",
       "\t\t\tsuccess: function(html)\n",
       "\t\t\t{\n",
       "\t\t\t\t$(\"#country\").html(html);\n",
       "\t\t\t\t$(\"#type_submit\").val(id);\n",
       "\t\t\t\t$('#submit').attr(\"disabled\", true);\n",
       "\t\t\t\t$(\"#wait\").css(\"display\", \"none\");\n",
       "\t\t\t}\n",
       "\t\t});\n",
       "\t});\n",
       "\n",
       "\n",
       "\t$(\"#country\").change(function()\n",
       "\t{\n",
       "\t\tvar type_submit = $(\"#type option:selected\" ).text();\n",
       "\t\tvar country=$(this).val();\n",
       "\t\tvar dataString = 'type='+type_submit+'&country='+ country;\n",
       "\n",
       "\t\t$.ajax\n",
       "\t\t({\n",
       "\t\t\ttype: \"GET\",\n",
       "\t\t\turl: \"d.php\",\n",
       "\t\t\tdata: dataString,\n",
       "\t\t\tcache: false,\n",
       "\t\t\tbeforeSend: function() {\n",
       "\t\t\t\t$(\"#wait\").css(\"display\", \"block\");\n",
       "\t\t\t},\n",
       "\t\t\tsuccess: function(html)\n",
       "\t\t\t{\n",
       "\t\t\t\t$(\"#item\").html(html);\n",
       "\t\t\t\t$('#submit').attr(\"disabled\", true);\n",
       "\t\t\t\t$(\"#wait\").css(\"display\", \"none\");\n",
       "\t\t\t}\n",
       "\t\t});\n",
       "\t});\n",
       "\n",
       "\t$(\"#item\").change(function()\n",
       "\t{\n",
       "\t\t$('#submit').attr(\"disabled\", false);\n",
       "\t});\n",
       "\n",
       "\t$('#save-event').click(function() {\n",
       "\t\tvar curPos = marker.getLatLng();\n",
       "\t\tvar lat_save = curPos.lat;\n",
       "\t\tvar lon_save = curPos.lng;\n",
       "\n",
       "\t\tdocument.cookie=\"lat=\"+lat_save+\"; path=/\";\n",
       "\t\tdocument.cookie=\"lon=\"+lon_save+\"; path=/\";\n",
       "\n",
       "    \t$('.modal').modal('hide');\n",
       "    });\n",
       "\n",
       "\t$('#favorites_button').click(function() {\n",
       "\t\t$('#favorites').modal('show');\n",
       "    });\n",
       "\t$('#settings_button').click(function() {\n",
       "\t\t$('#settings').modal('show');\n",
       "\t\t  setTimeout(function() {\n",
       "\t\t\tmap.invalidateSize();\n",
       "\n",
       "\t\t  }, 10);\n",
       "    });\n",
       "\n",
       "\t// FAVORITE\n",
       "\tvar Cookies2 = Cookies.noConflict();\n",
       "\n",
       "\tvar fav_type = $(\"#setcompare_type\").val();\n",
       "\tvar fav_id = $(\"#setcompare_item\").val();\n",
       "\tvar fav_name = $(\"#setcompare_name\").val();\n",
       "\tvar fav_country = $(\"#setcompare_country\").val();\n",
       "\n",
       "\tvar empty_array = [['type','id','name','country']];\n",
       "\tvar empty = JSON.stringify(empty_array);\n",
       "\n",
       "\tfunction is_favorite() {\n",
       "\t\tvar favorites_array2 = JSON.parse(Cookies2.get('favorites') || empty);\n",
       "\t\tvar favItem = ['' + fav_type + '','' + fav_id + '','' + fav_name + '','' + fav_country + ''];\n",
       "\n",
       "\t\tfor (var i = 0, len = favorites_array2.length; i < len; i++) {\n",
       "\t\t\tif (favorites_array2[i][0].toLowerCase() == favItem[0].toLowerCase() && favorites_array2[i][1] == favItem[1]) {\n",
       "\n",
       "\t\t\t\t$('#favorite').find('i').removeClass('fa-star-o').addClass('fa fa-star');\n",
       "\t\t\t\t//console.log(favorites_array2);\n",
       "\t\t\t\treturn \"found\";\n",
       "\t\t\t\tbreak;\n",
       "\t\t\t}\n",
       "\t\t}\n",
       "\n",
       "\t\tconsole.log(favorites_array2);\n",
       "\t}\n",
       "\n",
       "\tfunction add_favorite() {\n",
       "\t\tvar favorites_array = JSON.parse(Cookies2.get('favorites') || empty);\n",
       "\t\tvar favItem = ['' + fav_type + '','' + fav_id + '','' + fav_name + '','' + fav_country + ''];\n",
       "\n",
       "\t\tif (is_favorite() == \"found\") {\n",
       "\t\t\tfor (var i = favorites_array.length; i--;) {\n",
       "\t\t\t   if (favorites_array[i][0].toLowerCase() == favItem[0].toLowerCase() && favorites_array[i][1] == favItem[1]) {\n",
       "\t\t\t\t   favorites_array.splice(i, 1);\n",
       "\t\t\t   }\n",
       "\t\t\t}\n",
       "\t\t\tCookies2.set('favorites', JSON.stringify(favorites_array), { expires: 365, path: '/' });\n",
       "\t\t}\n",
       "\t\telse {\n",
       "\t\t\tfavorites_array.push(favItem);\n",
       "\t\t\tCookies2.set('favorites', JSON.stringify(favorites_array), { expires: 365, path: '/' });\n",
       "\t\t}\n",
       "\t}\n",
       "\n",
       "\t$(\"#favorite\").click(function() {\n",
       "\t\tadd_favorite();\n",
       "\t\t$(\"#favorite\").find('i').toggleClass('fa fa-star-o fa fa-star');\n",
       "\t});\n",
       "\n",
       "\t$('#favorites').on('show.bs.modal', function () {\n",
       "\t\tvar favorites_array = JSON.parse(Cookies2.get('favorites') || empty);\n",
       "\t\tvar txt = \"\";\n",
       "\n",
       "\t\tfor (favorite in favorites_array) {\n",
       "\t\t\tif (favorites_array[favorite][0] != \"type\") {\n",
       "\t\t\t\ttxt += '<li><a href=\"' + escapeHTML(favorites_array[favorite][0].toLowerCase()) + '/' + escapeHTML(favorites_array[favorite][1]) + '/\">' + escapeHTML(favorites_array[favorite][3]) + ': ' + escapeHTML(favorites_array[favorite][2]) + '</a></li>';\n",
       "\t\t\t}\n",
       "\t\t}\n",
       "\t\tif (txt == \"\") {\n",
       "\t\t\tvar txt = \"Empty favorites! Use favorite button to add.\";\n",
       "\t\t}\n",
       "\t\t$(\"#favorite_list\").html(\"<ul>\" + txt + \"</ul>\");\n",
       "\t});\n",
       "\n",
       "\tfunction checkCookie(){\n",
       "\t\tvar cookieEnabled=(navigator.cookieEnabled)? true : false;\n",
       "\t\tif (typeof navigator.cookieEnabled==\"undefined\" && !cookieEnabled){\n",
       "\t\t\tdocument.cookie=\"testcookie\";\n",
       "\t\t\tcookieEnabled=(document.cookie.indexOf(\"testcookie\")!=-1)? true : false;\n",
       "\t\t}\n",
       "\t\treturn (cookieEnabled)?true:showCookieFail();\n",
       "\t}\n",
       "\n",
       "\tfunction showCookieFail(){\n",
       "\t\t$(\"#cookie_notice\").html(\"Notice: Settings and Favorites does not work if cookies are disabled!\");\n",
       "\t}\n",
       "\n",
       "\tcheckCookie();\n",
       "\tis_favorite();\n",
       "\timagePreview();\n",
       "});\n",
       "\n",
       "function subm_data(country, type, item) {\n",
       "\n",
       "\tvar subm_country = country;\n",
       "\tvar subm_type = type;\n",
       "\tvar subm_item = item;\n",
       "\tvar dataString = 'type='+subm_type+'&country='+ subm_country;\n",
       "\tvar dataString2 = 'type='+subm_type+'';\n",
       "\n",
       "\t$(\"#type\").children('option:contains(\"'+subm_type+'\")').attr('selected','selected');\n",
       "\n",
       "\t$.ajax\n",
       "\t({\n",
       "\t\ttype: \"GET\",\n",
       "\t\turl: \"d.php\",\n",
       "\t\tdata: dataString2,\n",
       "\t\tcache: false,\n",
       "\t\tsuccess: function(html2)\n",
       "\t\t{\n",
       "\t\t\t$(\"#country\").html(html2);\n",
       "\t\t\t$(\"#country\").children('option:contains(\"'+subm_country+'\")').attr('selected','selected');\n",
       "\t\t}\n",
       "\t});\n",
       "\n",
       "\t$.ajax\n",
       "\t({\n",
       "\t\ttype: \"GET\",\n",
       "\t\turl: \"d.php\",\n",
       "\t\tdata: dataString,\n",
       "\t\tcache: false,\n",
       "\t\tsuccess: function(html)\n",
       "\t\t{\n",
       "\t\t\t$(\"#item\").html(html);\n",
       "\t\t\t$(\"#item\").children('option[value=\"'+subm_item+'\"]').attr('selected','selected');\n",
       "\t\t}\n",
       "\t});\n",
       "}\n",
       "</script>\n",
       "</link></meta></head>\n",
       "<body>\n",
       "<div class=\"navbar navbar-default navbar-fixed-top\">\n",
       "<div class=\"container\">\n",
       "<div class=\"navbar-header\">\n",
       "<a class=\"navbar-brand\" href=\"http://cmano-db.com/\">CMANO-DB.COM</a>\n",
       "<button class=\"navbar-toggle\" data-target=\"#navbar-main\" data-toggle=\"collapse\" type=\"button\">\n",
       "<span class=\"icon-bar\"></span>\n",
       "<span class=\"icon-bar\"></span>\n",
       "<span class=\"icon-bar\"></span>\n",
       "</button>\n",
       "</div>\n",
       "<div class=\"navbar-collapse collapse\" id=\"navbar-main\">\n",
       "<ul class=\"nav navbar-nav\">\n",
       "<li><a href=\"http://cmano-db.com/compare.php\"><i aria-hidden=\"true\" class=\"fa fa-random\"></i> Compare</a></li>\n",
       "<li class=\"dropdown\">\n",
       "<a class=\"dropdown-toggle\" data-toggle=\"dropdown\" href=\"#\" id=\"lists\"><i aria-hidden=\"true\" class=\"fa fa-list\"></i> List <span class=\"caret\"></span></a>\n",
       "<ul aria-labelledby=\"lists\" class=\"dropdown-menu\">\n",
       "<li><a href=\"aircraft/\">Aircraft</a></li>\n",
       "<li><a href=\"ship/\">Ship</a></li>\n",
       "<li><a href=\"submarine/\">Submarine</a></li>\n",
       "<li><a href=\"facility/\">Facility</a></li>\n",
       "<li><a href=\"weapon/\">Weapon</a></li>\n",
       "<li><a href=\"sensor/\">Sensor</a></li>\n",
       "</ul>\n",
       "</li>\n",
       "<li><a href=\"search.php\"><i aria-hidden=\"true\" class=\"fa fa-search\"></i> Search</a></li>\n",
       "</ul>\n",
       "<ul class=\"nav navbar-nav navbar-right\">\n",
       "<li><a href=\"#\" id=\"favorites_button\"><i aria-hidden=\"true\" class=\"fa fa-star\"></i> Favorites</a></li>\n",
       "<li><a href=\"#\" id=\"settings_button\"><i aria-hidden=\"true\" class=\"fa fa-wrench\"></i> Settings</a></li>\n",
       "</ul>\n",
       "</div>\n",
       "</div>\n",
       "</div>\n",
       "<div class=\"container\">\n",
       "<div class=\"row\" id=\"list\">\n",
       "<br/>\n",
       "<form action=\"index.php\" class=\"form-vertical\" method=\"get\">\n",
       "<input id=\"type_submit\" type=\"hidden\"/>\n",
       "<div class=\"col-lg-2\">\n",
       "<label class=\"control-label\" for=\"type\">Category:</label>\n",
       "<select class=\"form-control\" id=\"type\" name=\"type\" size=\"10\">\n",
       "<option value=\"aircraft\">Aircraft</option>\n",
       "<option value=\"ship\">Ship</option>\n",
       "<option value=\"submarine\">Submarine</option>\n",
       "<option value=\"facility\">Facility</option>\n",
       "<option value=\"weapon\">Weapon</option>\n",
       "<option value=\"sensor\">Sensor</option>\n",
       "</select>\n",
       "</div>\n",
       "<div class=\"col-lg-3\">\n",
       "<label class=\"control-label\" for=\"type\">Country/Type:</label>\n",
       "<select class=\"form-control\" id=\"country\" name=\"country\" size=\"10\">\n",
       "</select>\n",
       "</div>\n",
       "<div class=\"col-lg-7\">\n",
       "<label class=\"control-label\" for=\"item\">Item:</label>\n",
       "<select class=\"form-control\" id=\"item\" name=\"item\" size=\"10\">\n",
       "</select>\n",
       "<br/>\n",
       "<button class=\"btn btn-default\" id=\"reset\" type=\"reset\">Cancel</button>\n",
       "<button class=\"btn btn-primary\" id=\"submit\" name=\"submit\" type=\"submit\">Submit <div id=\"wait\" style=\"display:none; float: left; margin-right: 10px;\"><img height=\"16\" src=\"images/loading.gif\" width=\"16\"/></div></button>\n",
       "</div></form>\n",
       "</div>\n",
       "</div>\n",
       "<div class=\"row\">\n",
       "<br/>\n",
       "<div class=\"col-lg-12\">\n",
       "<script async=\"\" src=\"https://pagead2.googlesyndication.com/pagead/js/adsbygoogle.js\"></script>\n",
       "<!-- cmano-db.com -->\n",
       "<ins class=\"adsbygoogle\" data-ad-client=\"ca-pub-1382552067334538\" data-ad-format=\"auto\" data-ad-slot=\"3320724779\" data-full-width-responsive=\"true\" style=\"display:block\"></ins>\n",
       "<script>\n",
       "     (adsbygoogle = window.adsbygoogle || []).push({});\n",
       "</script>\n",
       "<div class=\"page-header\">\n",
       "<ul class=\"breadcrumb\">\n",
       "<li><a href=\"aircraft/\">Aircraft</a></li>\n",
       "<li><a href=\"aircraft/Afghanistan/\">Afghanistan</a></li>\n",
       "<li class=\"active\">A-29B Super Tucano [EMB-314]</li>\n",
       "</ul>\n",
       "<a class=\"btn btn-primary btn-sm pull-right\" href=\"javascript: void(0)\" id=\"t_list\"><i aria-hidden=\"true\" class=\"fa fa-toggle-down\"></i> Toggle List</a>\n",
       "<form action=\"compare.php\" method=\"post\">\n",
       "<input id=\"setcompare_type\" name=\"setcompare_type\" type=\"hidden\" value=\"Aircraft\"/>\n",
       "<input id=\"setcompare_item\" name=\"setcompare_item\" type=\"hidden\" value=\"4354\"/>\n",
       "<input id=\"setcompare_name\" name=\"setcompare_name\" type=\"hidden\" value=\"A-29B Super Tucano [EMB-314] - 2016, 20x\"/>\n",
       "<input id=\"setcompare_country\" name=\"setcompare_country\" type=\"hidden\" value=\"Afghanistan\"/>\n",
       "<button class=\"btn btn-default btn-sm pull-right\" name=\"setcompare\" title=\"Add to compare\" type=\"submit\" value=\"setcompare\"><i aria-hidden=\"true\" class=\"fa fa-plus\"></i> Compare</button>\n",
       "</form>\n",
       "<a class=\"btn btn-default btn-sm pull-right\" data-toggle=\"modal\" href=\"pdf/aircraft/4354/\"><i aria-hidden=\"true\" class=\"fa fa-print\"></i> PDF/Print</a>\n",
       "<a class=\"btn btn-default btn-sm pull-right\" href=\"javascript: void(0)\" id=\"favorite\" name=\"favorite\" title=\"Add or remove favorite\"><i aria-hidden=\"true\" class=\"fa fa-star-o\"></i> Favorite</a>\n",
       "<h3 id=\"typography\">A-29B Super Tucano [EMB-314] - 2016, 20x</h3>\n",
       "</div>\n",
       "</div>\n",
       "<div class=\"col-lg-7\">\n",
       "<table class=\"table table-striped table-hover\">\n",
       "<thead>\n",
       "<tr>\n",
       "<th><b><u>General data:</u></b></th>\n",
       "<th></th>\n",
       "</tr>\n",
       "</thead>\n",
       "<tbody>\n",
       "<tr>\n",
       "<td>Type: Attack</td>\n",
       "<td>Crew: 2</td>\n",
       "</tr>\n",
       "<tr>\n",
       "<td>Min Speed: 220 kt</td>\n",
       "<td>Max Speed: 330 kt</td>\n",
       "</tr>\n",
       "<tr>\n",
       "<td>Wingspan: 11.1 m</td>\n",
       "<td>Height: 3.9 m</td>\n",
       "</tr>\n",
       "<tr>\n",
       "<td>Length: 11.4 m</td>\n",
       "<td>Max Payload: 1500 kg</td>\n",
       "</tr>\n",
       "<tr>\n",
       "<td>Empty Weight: 3200 kg</td>\n",
       "<td>Max Weight: 5400 kg</td>\n",
       "</tr>\n",
       "<tr>\n",
       "<td>Operator: Air Force</td>\n",
       "<td>Commissioned: 2016</td>\n",
       "</tr>\n",
       "<tr>\n",
       "<td style=\"max-width: 100px;\">Propulsion: 1x PT6A-68C</td>\n",
       "<td>\n",
       "</td>\n",
       "</tr>\n",
       "</tbody>\n",
       "</table>\n",
       "<table class=\"table table-striped table-hover\">\n",
       "<thead>\n",
       "<tr>\n",
       "<th><b><u>Sensors / EW:</u></b></th>\n",
       "</tr>\n",
       "</thead>\n",
       "<tbody>\n",
       "<tr><td><b><a href=\"sensor/4956/\">Star Safire III [FLIR]</a></b> - (Group, AN/AAQ-21/22) Infrared<br/>\n",
       "\t\t\t\t\t\tInfrared, Surveillance Camera<br/> Max Range: 55.6 km</td></tr><tr><td><b><a href=\"sensor/4957/\">Star Safire III [CCD]</a></b> - (Group, AN/AAQ-21/22) Visual<br/>\n",
       "\t\t\t\t\t\tLLTV, Surveillance Camera<br/> Max Range: 55.6 km</td></tr><tr><td><b><a href=\"sensor/4959/\">Star Safire III [Laser Designator]</a></b> - (Group, AN/AAQ-21/22) Laser Designator<br/>\n",
       "\t\t\t\t\t\tLaser Target Designator &amp; Ranger (LTD/R)<br/> Max Range: 27.8 km</td></tr> </tbody>\n",
       "</table>\n",
       "<table class=\"table table-striped table-hover\">\n",
       "<thead>\n",
       "<tr>\n",
       "<th><b><u>Weapons / Loadouts:</u></b></th>\n",
       "</tr>\n",
       "</thead>\n",
       "<tbody>\n",
       "<tr><td><b><a href=\"weapon/2650/\">330 liter Drop Tank</a></b> -\n",
       "\t\t\t\t Drop Tank<br/>\n",
       "</td></tr><tr><td> <a class=\"preview pull-right\" href=\"images/DB3000/weapon_1906.jpg\" target=\"_blank\"><i class=\"fa fa-picture-o\"></i></a><b><a href=\"weapon/1906/\">GBU-12D/B Paveway II LGB [Mk82]</a></b> -\n",
       "\t\t\t\t Guided Weapon<br/>\n",
       "\t\t\t\tSurface Max: 7.4 km. Land Max: 7.4 km. </td></tr><tr><td> <a class=\"preview pull-right\" href=\"images/DB3000/weapon_1814.jpg\" target=\"_blank\"><i class=\"fa fa-picture-o\"></i></a><b><a href=\"weapon/1814/\">Mk82 500lb LDGP</a></b> -\n",
       "\t\t\t\t(1954) Bomb<br/>\n",
       "\t\t\t\tSurface Max: 1.9 km. Land Max: 1.9 km. </td></tr> </tbody>\n",
       "</table>\n",
       "</div>\n",
       "<div class=\"col-lg-5\">\n",
       "<div id=\"map_sensors\" style=\"width: 100%; height: 500px;\"></div>\n",
       "<br/>\n",
       "<div id=\"map_weapons\" style=\"width: 100%; height: 500px;\"></div>\n",
       "<br/>\n",
       "<ul class=\"nav nav-tabs\" style=\"padding: 0px; margin: 0px;\">\n",
       "<li class=\"active\"><a aria-expanded=\"true\" data-toggle=\"tab\" href=\"#radar\">Radar</a></li>\n",
       "<li class=\"\"><a aria-expanded=\"false\" data-toggle=\"tab\" href=\"#visual\">Visual/IR</a></li>\n",
       "</ul>\n",
       "<div class=\"tab-content\" id=\"signature_tab\">\n",
       "<div class=\"tab-pane fade active in\" id=\"radar\">\n",
       "<div id=\"chart_radar_div\" style=\"width: 100%; height: 500px; padding: 0px; margin: 0px;\">\n",
       "<canvas height=\"500\" id=\"chart_radar\" style=\"background-color: rgba(29, 32, 36, 0.2);\" width=\"500\"></canvas>\n",
       "</div>\n",
       "</div>\n",
       "<div class=\"tab-pane fade\" id=\"visual\">\n",
       "<div id=\"chart_visual_div\" style=\"width: 100%; height: 500px; padding: 0px; margin: 0px;\">\n",
       "<canvas height=\"500\" id=\"chart_visual\" style=\"background-color: rgba(29, 32, 36, 0.2);\" width=\"500\"></canvas>\n",
       "</div>\n",
       "</div>\n",
       "</div>\n",
       "<script>\n",
       "var ctx = document.getElementById(\"chart_radar\");\n",
       "var ctx2 = document.getElementById(\"chart_visual\");\n",
       "\n",
       "var front_sig = 3.6;\n",
       "var side_sig = 6.0;\n",
       "var rear_sig = 3.6;\n",
       "var top_sig = 6.4;\n",
       "\n",
       "var front_sig_radar = 3.6;\n",
       "var side_sig_radar = 6.0;\n",
       "var rear_sig_radar = 3.6;\n",
       "var top_sig_radar = 6.0;\n",
       "\n",
       "var front_sig_vis = 2.32;\n",
       "var side_sig_vis = 4.48;\n",
       "var rear_sig_vis = 2.32;\n",
       "var top_sig_vis = 6.34;\n",
       "\n",
       "var front_sig_inf = 2.32;\n",
       "var side_sig_inf = 6.42;\n",
       "var rear_sig_inf = 11.89;\n",
       "var top_sig_inf = 8.1;\n",
       "\n",
       "// radar\n",
       "var data = {\n",
       "    labels: [\"Front\", \"Side\", \"Rear\", \"Top\"],\n",
       "    datasets: [\n",
       "        {\n",
       "            label: \"Radar, A-D Band (30-2000 MHz)\",\n",
       "            backgroundColor: \"rgba(120, 108, 230, 0.7)\",\n",
       "            borderColor: \"rgba(179,181,198,1)\",\n",
       "            pointBackgroundColor: \"rgba(179,181,198,1)\",\n",
       "            pointBorderColor: \"#fff\",\n",
       "            pointHoverBackgroundColor: \"#fff\",\n",
       "            pointHoverBorderColor: \"rgba(179,181,198,1)\",\n",
       "            data: [front_sig, side_sig, rear_sig, top_sig]\n",
       "        },\n",
       "        {\n",
       "            label: \"Radar, E-M Band (2-100 GHz)\",\n",
       "            backgroundColor: \"rgba(255, 51, 0, 0.5)\",\n",
       "            borderColor: \"rgba(179,181,198,1)\",\n",
       "            pointBackgroundColor: \"rgba(179,181,198,1)\",\n",
       "            pointBorderColor: \"#fff\",\n",
       "            pointHoverBackgroundColor: \"#fff\",\n",
       "            pointHoverBorderColor: \"rgba(179,181,198,1)\",\n",
       "            data: [front_sig_radar, side_sig_radar, rear_sig_radar, top_sig_radar]\n",
       "        }\n",
       "    ]\n",
       "};\n",
       "\n",
       "new Chart(ctx, {\n",
       "    type: \"radar\",\n",
       "    data: data,\n",
       "    options: {\n",
       "    \t\tresponsive: true,\n",
       "    \t\tmaintainAspectRatio: false,\n",
       "            scale: {\n",
       "                reverse: false,\n",
       "                ticks: {\n",
       "                    beginAtZero: true,\n",
       "                    fontColor: \"#ffffff\",\n",
       "                    showLabelBackdrop: false\n",
       "                },\n",
       "              gridLines: {\n",
       "                color: 'rgb(128, 128, 128)',\n",
       "              }\n",
       "            },\n",
       "        title: {\n",
       "            display: true,\n",
       "            text: \"Signatures (dBsm)\",\n",
       "            fontColor: 'rgb(242, 242, 242)'\n",
       "        },\n",
       "        legend: {\n",
       "            display: true,\n",
       "            labels: {\n",
       "                fontColor: 'rgb(242, 242, 242)'\n",
       "            }\n",
       "        }\n",
       "    }\n",
       "});\n",
       "\n",
       "// visual/ir\n",
       "var data2 = {\n",
       "    labels: [\"Front\", \"Side\", \"Rear\", \"Top\"],\n",
       "    datasets: [\n",
       "        {\n",
       "            label: \"Visual Detection Range\",\n",
       "            backgroundColor: \"rgba(120, 108, 230, 0.7)\",\n",
       "            borderColor: \"rgba(179,181,198,1)\",\n",
       "            pointBackgroundColor: \"rgba(179,181,198,1)\",\n",
       "            pointBorderColor: \"#fff\",\n",
       "            pointHoverBackgroundColor: \"#fff\",\n",
       "            pointHoverBorderColor: \"rgba(179,181,198,1)\",\n",
       "            data: [front_sig_vis, side_sig_vis, rear_sig_vis, top_sig_vis]\n",
       "        },\n",
       "        {\n",
       "            label: \"Infrared Detection Range\",\n",
       "            backgroundColor: \"rgba(255, 51, 0, 0.5)\",\n",
       "            borderColor: \"rgba(179,181,198,1)\",\n",
       "            pointBackgroundColor: \"rgba(179,181,198,1)\",\n",
       "            pointBorderColor: \"#fff\",\n",
       "            pointHoverBackgroundColor: \"#fff\",\n",
       "            pointHoverBorderColor: \"rgba(179,181,198,1)\",\n",
       "            data: [front_sig_inf, side_sig_inf, rear_sig_inf, top_sig_inf]\n",
       "        }\n",
       "    ]\n",
       "};\n",
       "\n",
       "new Chart(ctx2, {\n",
       "    type: \"radar\",\n",
       "    data: data2,\n",
       "    options: {\n",
       "    \t\tresponsive: true,\n",
       "    \t\tmaintainAspectRatio: false,\n",
       "            scale: {\n",
       "                reverse: false,\n",
       "                ticks: {\n",
       "                    beginAtZero: true,\n",
       "                    fontColor: \"#ffffff\",\n",
       "                    showLabelBackdrop: false\n",
       "                },\n",
       "              gridLines: {\n",
       "                color: 'rgb(128, 128, 128)',\n",
       "              }\n",
       "            },\n",
       "        title: {\n",
       "            display: true,\n",
       "            text: \"Signatures (nm)\",\n",
       "            fontColor: 'rgb(242, 242, 242)'\n",
       "        },\n",
       "        legend: {\n",
       "            display: true,\n",
       "            labels: {\n",
       "                fontColor: 'rgb(242, 242, 242)'\n",
       "            }\n",
       "        }\n",
       "    }\n",
       "});\n",
       "\n",
       "var defaultcolor = Chart.defaults.global.defaultFontColor = '#fff';\n",
       "</script> </div>\n",
       "</div>\n",
       "<script src=\"map_sensors.php?type=Aircraft&amp;item=4354\"></script>\n",
       "<script src=\"map_weapons.php?type=Aircraft&amp;item=4354\"></script>\n",
       "<script type=\"text/javascript\">\n",
       "\t\t\t\tsubm_data(\"Afghanistan\",\"Aircraft\",\"4354\");\n",
       "\t\t\t</script>\n",
       "<div class=\"modal\" id=\"settings\">\n",
       "<div class=\"modal-dialog\">\n",
       "<div class=\"modal-content\">\n",
       "<div class=\"modal-header\">\n",
       "<button aria-hidden=\"true\" class=\"close\" data-dismiss=\"modal\" type=\"button\">x</button>\n",
       "<h4 class=\"modal-title\">Settings</h4>\n",
       "</div>\n",
       "<div class=\"modal-body\">\n",
       "<p>Sensors and Weapons placement on map:</p>\n",
       "<div id=\"map_settings\" style=\"height: 250px; width: 100%;\"></div>\n",
       "<p><small>Drag marker and save</small></p>\n",
       "</div>\n",
       "<div class=\"modal-footer\">\n",
       "<button class=\"btn btn-default\" data-dismiss=\"modal\" type=\"button\">Close</button>\n",
       "<button class=\"btn btn-primary\" id=\"save-event\" type=\"button\">Save changes</button>\n",
       "</div>\n",
       "</div>\n",
       "</div>\n",
       "</div>\n",
       "<div class=\"modal\" id=\"favorites\">\n",
       "<div class=\"modal-dialog\">\n",
       "<div class=\"modal-content\">\n",
       "<div class=\"modal-header\">\n",
       "<button aria-hidden=\"true\" class=\"close\" data-dismiss=\"modal\" type=\"button\">x</button>\n",
       "<h4 class=\"modal-title\">Favorites</h4>\n",
       "</div>\n",
       "<div class=\"modal-body\">\n",
       "<p>\n",
       "<div id=\"favorite_list\"></div>\n",
       "</p>\n",
       "</div>\n",
       "<div class=\"modal-footer\">\n",
       "<button class=\"btn btn-default\" data-dismiss=\"modal\" type=\"button\">Close</button>\n",
       "</div>\n",
       "</div>\n",
       "</div>\n",
       "</div>\n",
       "<script type=\"text/javascript\">\n",
       "\t\tvar maplayer = L.tileLayer('http://{s}.basemaps.cartocdn.com/light_all/{z}/{x}/{y}.png', {\n",
       "\t\t\tmaxZoom: 19,\n",
       "\t\t\tattribution: '&copy; <a href=\"http://cartodb.com/attributions\">CartoDB</a>'\n",
       "\t\t});\n",
       "\n",
       "\t\t\tvar map = L.map('map_settings', {\n",
       "\t\t\tcenter: [60.13603, 24.94514],\n",
       "\t\t\tzoom: 3,\n",
       "\t\t\tlayers: [maplayer]\n",
       "\t\t});\n",
       "\n",
       "\t\tvar icon = L.icon({\n",
       "\t\t\ticonUrl: 'marker.png',\n",
       "\t\t\ticonSize: [25, 41],\n",
       "\t\t\ticonAnchor: [12, 41]\n",
       "\t\t});\n",
       "\n",
       "\t\tvar marker = L.marker(new L.LatLng(60.13603, 24.94514), {\n",
       "\t\t\tdraggable: true,\n",
       "\t\t\ticon: icon\n",
       "\t\t}).addTo(map);\n",
       "\t</script>\n",
       "<footer>\n",
       "<div class=\"row\">\n",
       "<div class=\"col-lg-12\">\n",
       "<div id=\"cookie_notice\" style=\"color: red; font-size: small;\"></div>\n",
       "<ul class=\"list-unstyled\">\n",
       "<li><a href=\"index.php\">Home</a></li>\n",
       "<li><a href=\"compare.php\">Compare</a></li>\n",
       "<li><a href=\"search.php\">Search</a></li>\n",
       "<li><a href=\"helper.php\">Helper</a></li>\n",
       "<li>|</li>\n",
       "<li><a href=\"http://cmano-db.com/cw/\">Cold War DataBase</a></li>\n",
       "</ul>\n",
       "<p><small>© cmano-db.com - db v. 477</small></p>\n",
       "</div>\n",
       "</div>\n",
       "</footer>\n",
       "</body></html>\n",
       "<script src=\"bootstrap.min.js\"></script>\n",
       "<script src=\"custom.js\"></script>\n",
       "\n"
      ]
     },
     "execution_count": 5,
     "metadata": {},
     "output_type": "execute_result"
    }
   ],
   "source": [
    "response = requests.get(complete_url_aircraft)\n",
    "soup = BeautifulSoup(response.text, \"html.parser\")\n",
    "soup"
   ]
  },
  {
   "cell_type": "markdown",
   "metadata": {},
   "source": [
    "#### Table 3"
   ]
  },
  {
   "cell_type": "code",
   "execution_count": 79,
   "metadata": {
    "ExecuteTime": {
     "end_time": "2020-08-28T15:17:37.439712Z",
     "start_time": "2020-08-28T15:17:37.434375Z"
    }
   },
   "outputs": [],
   "source": [
    "table = soup.find_all('table')[2]\n",
    "rows = table.find_all('tr')\n",
    "row_list = list()\n",
    "for tr in rows:\n",
    "    td = tr.find_all('td')\n",
    "    row = [i.text for i in td]\n",
    "    row_list.append(row)\n",
    "flat_list = [item for sublist in row_list for item in sublist]\n",
    "_list = []\n",
    "dict_keys = []\n",
    "dict_values = []"
   ]
  },
  {
   "cell_type": "code",
   "execution_count": 80,
   "metadata": {
    "ExecuteTime": {
     "end_time": "2020-08-28T15:17:37.713322Z",
     "start_time": "2020-08-28T15:17:37.709488Z"
    }
   },
   "outputs": [
    {
     "data": {
      "text/plain": [
       "['330 liter Drop Tank -\\n\\t\\t\\t\\t Drop Tank\\n',\n",
       " ' GBU-12D/B Paveway II LGB [Mk82] -\\n\\t\\t\\t\\t Guided Weapon\\n\\t\\t\\t\\tSurface Max: 7.4 km. Land Max: 7.4 km. ',\n",
       " ' Mk82 500lb LDGP -\\n\\t\\t\\t\\t(1954) Bomb\\n\\t\\t\\t\\tSurface Max: 1.9 km. Land Max: 1.9 km. ']"
      ]
     },
     "execution_count": 80,
     "metadata": {},
     "output_type": "execute_result"
    }
   ],
   "source": [
    "flat_list"
   ]
  },
  {
   "cell_type": "code",
   "execution_count": 99,
   "metadata": {
    "ExecuteTime": {
     "end_time": "2020-08-28T15:22:13.669838Z",
     "start_time": "2020-08-28T15:22:13.667225Z"
    }
   },
   "outputs": [],
   "source": [
    "next_line_pattern = '\\\\n[\\\\t]+'"
   ]
  },
  {
   "cell_type": "markdown",
   "metadata": {},
   "source": [
    "#### Extract text from Table 3"
   ]
  },
  {
   "cell_type": "code",
   "execution_count": 85,
   "metadata": {
    "ExecuteTime": {
     "end_time": "2020-08-28T15:18:58.921290Z",
     "start_time": "2020-08-28T15:18:58.918642Z"
    }
   },
   "outputs": [],
   "source": [
    "i = 1"
   ]
  },
  {
   "cell_type": "code",
   "execution_count": 86,
   "metadata": {
    "ExecuteTime": {
     "end_time": "2020-08-28T15:18:59.160494Z",
     "start_time": "2020-08-28T15:18:59.156500Z"
    }
   },
   "outputs": [
    {
     "data": {
      "text/plain": [
       "' GBU-12D/B Paveway II LGB [Mk82] -\\n\\t\\t\\t\\t Guided Weapon\\n\\t\\t\\t\\tSurface Max: 7.4 km. Land Max: 7.4 km. '"
      ]
     },
     "execution_count": 86,
     "metadata": {},
     "output_type": "execute_result"
    }
   ],
   "source": [
    "_list_val = flat_list[i]\n",
    "_list_val"
   ]
  },
  {
   "cell_type": "code",
   "execution_count": 87,
   "metadata": {
    "ExecuteTime": {
     "end_time": "2020-08-28T15:18:59.353757Z",
     "start_time": "2020-08-28T15:18:59.349792Z"
    }
   },
   "outputs": [
    {
     "data": {
      "text/plain": [
       "' GBU-12D/B Paveway II LGB [Mk82] - Guided WeaponSurface Max: 7.4 km. Land Max: 7.4 km. '"
      ]
     },
     "execution_count": 87,
     "metadata": {},
     "output_type": "execute_result"
    }
   ],
   "source": [
    "_list_val_clean = re.sub(next_line_pattern, \"\",_list_val)\n",
    "_list_val_clean"
   ]
  },
  {
   "cell_type": "code",
   "execution_count": 89,
   "metadata": {
    "ExecuteTime": {
     "end_time": "2020-08-28T15:20:04.864296Z",
     "start_time": "2020-08-28T15:20:04.859494Z"
    }
   },
   "outputs": [
    {
     "data": {
      "text/plain": [
       "[' GBU-12D/B Paveway II LGB [Mk82]',\n",
       " 'Guided WeaponSurface Max: 7.4 km. Land Max: 7.4 km. ']"
      ]
     },
     "execution_count": 89,
     "metadata": {},
     "output_type": "execute_result"
    }
   ],
   "source": [
    "_sublist = re.split(\" - \", _list_val_clean)\n",
    "_sublist"
   ]
  },
  {
   "cell_type": "code",
   "execution_count": null,
   "metadata": {},
   "outputs": [],
   "source": []
  },
  {
   "cell_type": "code",
   "execution_count": null,
   "metadata": {},
   "outputs": [],
   "source": []
  },
  {
   "cell_type": "code",
   "execution_count": null,
   "metadata": {},
   "outputs": [],
   "source": []
  },
  {
   "cell_type": "code",
   "execution_count": null,
   "metadata": {},
   "outputs": [],
   "source": []
  },
  {
   "cell_type": "code",
   "execution_count": null,
   "metadata": {},
   "outputs": [],
   "source": []
  },
  {
   "cell_type": "code",
   "execution_count": null,
   "metadata": {},
   "outputs": [],
   "source": []
  },
  {
   "cell_type": "code",
   "execution_count": null,
   "metadata": {},
   "outputs": [],
   "source": []
  },
  {
   "cell_type": "markdown",
   "metadata": {},
   "source": [
    "#### Not normal example"
   ]
  },
  {
   "cell_type": "code",
   "execution_count": 90,
   "metadata": {
    "ExecuteTime": {
     "end_time": "2020-08-28T15:21:41.854482Z",
     "start_time": "2020-08-28T15:21:41.851851Z"
    }
   },
   "outputs": [],
   "source": [
    "i = 1"
   ]
  },
  {
   "cell_type": "code",
   "execution_count": 91,
   "metadata": {
    "ExecuteTime": {
     "end_time": "2020-08-28T15:21:42.142915Z",
     "start_time": "2020-08-28T15:21:42.138594Z"
    }
   },
   "outputs": [
    {
     "data": {
      "text/plain": [
       "' GBU-12D/B Paveway II LGB [Mk82] -\\n\\t\\t\\t\\t Guided Weapon\\n\\t\\t\\t\\tSurface Max: 7.4 km. Land Max: 7.4 km. '"
      ]
     },
     "execution_count": 91,
     "metadata": {},
     "output_type": "execute_result"
    }
   ],
   "source": [
    "_list_val = flat_list[i]\n",
    "_list_val"
   ]
  },
  {
   "cell_type": "code",
   "execution_count": 92,
   "metadata": {
    "ExecuteTime": {
     "end_time": "2020-08-28T15:21:42.447270Z",
     "start_time": "2020-08-28T15:21:42.443368Z"
    }
   },
   "outputs": [
    {
     "data": {
      "text/plain": [
       "' GBU-12D/B Paveway II LGB [Mk82] - Guided WeaponSurface Max: 7.4 km. Land Max: 7.4 km. '"
      ]
     },
     "execution_count": 92,
     "metadata": {},
     "output_type": "execute_result"
    }
   ],
   "source": [
    "_sublist = re.sub(next_line_pattern, \"\",_list_val)\n",
    "_sublist"
   ]
  },
  {
   "cell_type": "code",
   "execution_count": null,
   "metadata": {},
   "outputs": [],
   "source": []
  },
  {
   "cell_type": "markdown",
   "metadata": {},
   "source": [
    "#### Normal example"
   ]
  },
  {
   "cell_type": "code",
   "execution_count": 100,
   "metadata": {
    "ExecuteTime": {
     "end_time": "2020-08-28T15:22:19.046413Z",
     "start_time": "2020-08-28T15:22:19.043890Z"
    }
   },
   "outputs": [],
   "source": [
    "i = 1"
   ]
  },
  {
   "cell_type": "code",
   "execution_count": 101,
   "metadata": {
    "ExecuteTime": {
     "end_time": "2020-08-28T15:22:19.314133Z",
     "start_time": "2020-08-28T15:22:19.311521Z"
    }
   },
   "outputs": [],
   "source": [
    "_list = []"
   ]
  },
  {
   "cell_type": "code",
   "execution_count": 102,
   "metadata": {
    "ExecuteTime": {
     "end_time": "2020-08-28T15:22:19.818097Z",
     "start_time": "2020-08-28T15:22:19.814775Z"
    }
   },
   "outputs": [],
   "source": [
    "for i in range(len(flat_list)):\n",
    "    _list_val = flat_list[i]\n",
    "    _sublist = re.split(next_line_pattern, _list_val)\n",
    "#     _sublist = re.sub(next_line_pattern, \"\",_list_val)\n",
    "    _sublist_2 = _sublist[-1].split(\". \")\n",
    "    _sublist_2 = [i for i in _sublist_2 if i]\n",
    "    _list.append(_sublist)\n",
    "    _list.append(_sublist_2)"
   ]
  },
  {
   "cell_type": "code",
   "execution_count": 103,
   "metadata": {
    "ExecuteTime": {
     "end_time": "2020-08-28T15:22:20.299633Z",
     "start_time": "2020-08-28T15:22:20.295743Z"
    },
    "scrolled": true
   },
   "outputs": [
    {
     "data": {
      "text/plain": [
       "[['330 liter Drop Tank -', ' Drop Tank\\n'],\n",
       " [' Drop Tank\\n'],\n",
       " [' GBU-12D/B Paveway II LGB [Mk82] -',\n",
       "  ' Guided Weapon',\n",
       "  'Surface Max: 7.4 km. Land Max: 7.4 km. '],\n",
       " ['Surface Max: 7.4 km', 'Land Max: 7.4 km'],\n",
       " [' Mk82 500lb LDGP -',\n",
       "  '(1954) Bomb',\n",
       "  'Surface Max: 1.9 km. Land Max: 1.9 km. '],\n",
       " ['Surface Max: 1.9 km', 'Land Max: 1.9 km']]"
      ]
     },
     "execution_count": 103,
     "metadata": {},
     "output_type": "execute_result"
    }
   ],
   "source": [
    "_list"
   ]
  },
  {
   "cell_type": "code",
   "execution_count": null,
   "metadata": {},
   "outputs": [],
   "source": []
  },
  {
   "cell_type": "code",
   "execution_count": 19,
   "metadata": {
    "ExecuteTime": {
     "end_time": "2020-08-28T14:56:53.378421Z",
     "start_time": "2020-08-28T14:56:53.374183Z"
    }
   },
   "outputs": [
    {
     "data": {
      "text/plain": [
       "[' Mk82 500lb LDGP -',\n",
       " '(1954) Bomb',\n",
       " 'Surface Max: 1.9 km. Land Max: 1.9 km. ']"
      ]
     },
     "execution_count": 19,
     "metadata": {},
     "output_type": "execute_result"
    }
   ],
   "source": [
    "_sublist = re.split(next_line_pattern, _list_val)\n",
    "_sublist"
   ]
  },
  {
   "cell_type": "code",
   "execution_count": 20,
   "metadata": {
    "ExecuteTime": {
     "end_time": "2020-08-28T14:56:53.811030Z",
     "start_time": "2020-08-28T14:56:53.806603Z"
    }
   },
   "outputs": [
    {
     "data": {
      "text/plain": [
       "['Surface Max: 1.9 km', 'Land Max: 1.9 km']"
      ]
     },
     "execution_count": 20,
     "metadata": {},
     "output_type": "execute_result"
    }
   ],
   "source": [
    "_sublist_2 = _sublist[-1].split(\". \")\n",
    "_sublist_2 = [i for i in _sublist_2 if i]\n",
    "_sublist_2"
   ]
  },
  {
   "cell_type": "code",
   "execution_count": 21,
   "metadata": {
    "ExecuteTime": {
     "end_time": "2020-08-28T14:56:54.406149Z",
     "start_time": "2020-08-28T14:56:54.402375Z"
    }
   },
   "outputs": [
    {
     "data": {
      "text/plain": [
       "['Surface Max', ' 1.9 km']"
      ]
     },
     "execution_count": 21,
     "metadata": {},
     "output_type": "execute_result"
    }
   ],
   "source": [
    "_sublist_3 = _sublist_2[0].split(\":\")\n",
    "_sublist_3"
   ]
  },
  {
   "cell_type": "code",
   "execution_count": 22,
   "metadata": {
    "ExecuteTime": {
     "end_time": "2020-08-28T14:56:55.092594Z",
     "start_time": "2020-08-28T14:56:55.090269Z"
    }
   },
   "outputs": [],
   "source": [
    "# weapon_keys = []\n",
    "# weapon_values = []"
   ]
  },
  {
   "cell_type": "code",
   "execution_count": 23,
   "metadata": {
    "ExecuteTime": {
     "end_time": "2020-08-28T14:56:55.718530Z",
     "start_time": "2020-08-28T14:56:55.716323Z"
    }
   },
   "outputs": [],
   "source": [
    "# weapon_key = _sublist_3[0]\n",
    "# weapon_value = _sublist_3[1]"
   ]
  },
  {
   "cell_type": "code",
   "execution_count": 24,
   "metadata": {
    "ExecuteTime": {
     "end_time": "2020-08-28T14:56:56.161316Z",
     "start_time": "2020-08-28T14:56:56.158914Z"
    }
   },
   "outputs": [],
   "source": [
    "# weapon_keys.append(weapon_key)\n",
    "# weapon_values.append(weapon_value)"
   ]
  },
  {
   "cell_type": "code",
   "execution_count": 104,
   "metadata": {
    "ExecuteTime": {
     "end_time": "2020-08-28T15:23:25.803877Z",
     "start_time": "2020-08-28T15:23:25.800084Z"
    }
   },
   "outputs": [],
   "source": [
    "weapon_keys = []\n",
    "weapon_values = []\n",
    "for i in range(len(_sublist_2)):\n",
    "    _sublist_3 = _sublist_2[i].split(\":\")\n",
    "    weapon_key = _sublist_3[0]\n",
    "    weapon_value = _sublist_3[1]\n",
    "    weapon_keys.append(weapon_key)\n",
    "    weapon_values.append(weapon_value)"
   ]
  },
  {
   "cell_type": "code",
   "execution_count": 105,
   "metadata": {
    "ExecuteTime": {
     "end_time": "2020-08-28T15:23:26.627367Z",
     "start_time": "2020-08-28T15:23:26.623444Z"
    }
   },
   "outputs": [
    {
     "data": {
      "text/plain": [
       "['Surface Max', 'Land Max']"
      ]
     },
     "execution_count": 105,
     "metadata": {},
     "output_type": "execute_result"
    }
   ],
   "source": [
    "weapon_keys"
   ]
  },
  {
   "cell_type": "code",
   "execution_count": 106,
   "metadata": {
    "ExecuteTime": {
     "end_time": "2020-08-28T15:23:27.747149Z",
     "start_time": "2020-08-28T15:23:27.743557Z"
    }
   },
   "outputs": [
    {
     "data": {
      "text/plain": [
       "[' 1.9 km', ' 1.9 km']"
      ]
     },
     "execution_count": 106,
     "metadata": {},
     "output_type": "execute_result"
    }
   ],
   "source": [
    "weapon_values"
   ]
  },
  {
   "cell_type": "code",
   "execution_count": 107,
   "metadata": {
    "ExecuteTime": {
     "end_time": "2020-08-28T15:23:32.836588Z",
     "start_time": "2020-08-28T15:23:32.832360Z"
    }
   },
   "outputs": [
    {
     "data": {
      "text/plain": [
       "['Weapon 2 Name', 'Weapon 2 Description']"
      ]
     },
     "execution_count": 107,
     "metadata": {},
     "output_type": "execute_result"
    }
   ],
   "source": [
    "dict_keys_template = [f'Weapon {i+1} Name', f'Weapon {i+1} Description']#, f'Weapon {i+1} {weapon_keys[0]}', f'Weapon {i+1} {weapon_keys[1]}']\n",
    "dict_keys_template"
   ]
  },
  {
   "cell_type": "code",
   "execution_count": 108,
   "metadata": {
    "ExecuteTime": {
     "end_time": "2020-08-28T15:23:33.359465Z",
     "start_time": "2020-08-28T15:23:33.355507Z"
    }
   },
   "outputs": [
    {
     "data": {
      "text/plain": [
       "['Weapon 2 Name', 'Weapon 2 Description', 'Surface Max', 'Land Max']"
      ]
     },
     "execution_count": 108,
     "metadata": {},
     "output_type": "execute_result"
    }
   ],
   "source": [
    "dict_keys_template = dict_keys_template + weapon_keys\n",
    "dict_keys_template"
   ]
  },
  {
   "cell_type": "code",
   "execution_count": 109,
   "metadata": {
    "ExecuteTime": {
     "end_time": "2020-08-28T15:23:37.849911Z",
     "start_time": "2020-08-28T15:23:37.844677Z"
    }
   },
   "outputs": [
    {
     "data": {
      "text/plain": [
       "[' Mk82 500lb LDGP -', '(1954) Bomb']"
      ]
     },
     "execution_count": 109,
     "metadata": {},
     "output_type": "execute_result"
    }
   ],
   "source": [
    "dict_values = _sublist[:2]\n",
    "dict_values"
   ]
  },
  {
   "cell_type": "code",
   "execution_count": 110,
   "metadata": {
    "ExecuteTime": {
     "end_time": "2020-08-28T15:23:40.136443Z",
     "start_time": "2020-08-28T15:23:40.132272Z"
    }
   },
   "outputs": [
    {
     "data": {
      "text/plain": [
       "[' Mk82 500lb LDGP -', '(1954) Bomb', ' 1.9 km', ' 1.9 km']"
      ]
     },
     "execution_count": 110,
     "metadata": {},
     "output_type": "execute_result"
    }
   ],
   "source": [
    "dict_values = dict_values + weapon_values\n",
    "dict_values"
   ]
  },
  {
   "cell_type": "code",
   "execution_count": null,
   "metadata": {},
   "outputs": [],
   "source": []
  },
  {
   "cell_type": "code",
   "execution_count": 32,
   "metadata": {
    "ExecuteTime": {
     "end_time": "2020-08-28T14:57:13.720353Z",
     "start_time": "2020-08-28T14:57:13.542616Z"
    }
   },
   "outputs": [
    {
     "ename": "TypeError",
     "evalue": "append() takes exactly one argument (0 given)",
     "output_type": "error",
     "traceback": [
      "\u001b[0;31m---------------------------------------------------------------------------\u001b[0m",
      "\u001b[0;31mTypeError\u001b[0m                                 Traceback (most recent call last)",
      "\u001b[0;32m<ipython-input-32-74c6fc232ba4>\u001b[0m in \u001b[0;36m<module>\u001b[0;34m\u001b[0m\n\u001b[0;32m----> 1\u001b[0;31m \u001b[0m_list\u001b[0m\u001b[0;34m.\u001b[0m\u001b[0mappend\u001b[0m\u001b[0;34m(\u001b[0m\u001b[0;34m)\u001b[0m\u001b[0;34m\u001b[0m\u001b[0;34m\u001b[0m\u001b[0m\n\u001b[0m",
      "\u001b[0;31mTypeError\u001b[0m: append() takes exactly one argument (0 given)"
     ]
    }
   ],
   "source": [
    "_list.append()"
   ]
  },
  {
   "cell_type": "markdown",
   "metadata": {},
   "source": [
    "### Wrap up into function"
   ]
  },
  {
   "cell_type": "code",
   "execution_count": 6,
   "metadata": {
    "ExecuteTime": {
     "end_time": "2020-08-28T15:35:09.485189Z",
     "start_time": "2020-08-28T15:35:09.481075Z"
    }
   },
   "outputs": [],
   "source": [
    "def _read_table(table_number, soup):\n",
    "    table = soup.find_all('table')[table_number]\n",
    "    rows = table.find_all('tr')\n",
    "    row_list = list()\n",
    "    for tr in rows:\n",
    "        td = tr.find_all('td')\n",
    "        row = [i.text for i in td]\n",
    "        row_list.append(row)\n",
    "    flat_list = [item for sublist in row_list for item in sublist]\n",
    "    return flat_list"
   ]
  },
  {
   "cell_type": "code",
   "execution_count": 108,
   "metadata": {
    "ExecuteTime": {
     "end_time": "2020-08-16T19:06:55.701924Z",
     "start_time": "2020-08-16T19:06:55.698551Z"
    }
   },
   "outputs": [],
   "source": [
    "flat_list = _read_table(2, soup)\n",
    "\n",
    "_list = []\n",
    "dict_keys = []\n",
    "dict_values = []"
   ]
  },
  {
   "cell_type": "code",
   "execution_count": 109,
   "metadata": {
    "ExecuteTime": {
     "end_time": "2020-08-16T19:07:31.491325Z",
     "start_time": "2020-08-16T19:07:31.487709Z"
    }
   },
   "outputs": [
    {
     "data": {
      "text/plain": [
       "['330 liter Drop Tank -\\n\\t\\t\\t\\t Drop Tank\\n',\n",
       " ' GBU-12D/B Paveway II LGB [Mk82] -\\n\\t\\t\\t\\t Guided Weapon\\n\\t\\t\\t\\tSurface Max: 7.4 km. Land Max: 7.4 km. ',\n",
       " ' Mk82 500lb LDGP -\\n\\t\\t\\t\\t(1954) Bomb\\n\\t\\t\\t\\tSurface Max: 1.9 km. Land Max: 1.9 km. ']"
      ]
     },
     "execution_count": 109,
     "metadata": {},
     "output_type": "execute_result"
    }
   ],
   "source": [
    "flat_list"
   ]
  },
  {
   "cell_type": "code",
   "execution_count": 118,
   "metadata": {
    "ExecuteTime": {
     "end_time": "2020-08-16T19:10:47.855396Z",
     "start_time": "2020-08-16T19:10:47.851769Z"
    }
   },
   "outputs": [],
   "source": [
    "for i in range(len(flat_list)):\n",
    "    _list_val = flat_list[i]\n",
    "    _sublist = re.split(next_line_pattern, _list_val)\n",
    "    _sublist_2 = _sublist[-1].split(\". \")\n",
    "    _sublist_2 = [i for i in _sublist_2 if i]\n",
    "    _list.append(_sublist)\n",
    "#     _list.append(_sublist_2)"
   ]
  },
  {
   "cell_type": "code",
   "execution_count": 119,
   "metadata": {
    "ExecuteTime": {
     "end_time": "2020-08-16T19:10:48.663914Z",
     "start_time": "2020-08-16T19:10:48.659417Z"
    }
   },
   "outputs": [
    {
     "data": {
      "text/plain": [
       "[['330 liter Drop Tank -', ' Drop Tank\\n'],\n",
       " [' Drop Tank\\n'],\n",
       " [' GBU-12D/B Paveway II LGB [Mk82] -',\n",
       "  ' Guided Weapon',\n",
       "  'Surface Max: 7.4 km. Land Max: 7.4 km. '],\n",
       " ['Surface Max: 7.4 km', 'Land Max: 7.4 km'],\n",
       " [' Mk82 500lb LDGP -',\n",
       "  '(1954) Bomb',\n",
       "  'Surface Max: 1.9 km. Land Max: 1.9 km. '],\n",
       " ['Surface Max: 1.9 km', 'Land Max: 1.9 km'],\n",
       " ['330 liter Drop Tank -', ' Drop Tank\\n'],\n",
       " [' GBU-12D/B Paveway II LGB [Mk82] -',\n",
       "  ' Guided Weapon',\n",
       "  'Surface Max: 7.4 km. Land Max: 7.4 km. '],\n",
       " [' Mk82 500lb LDGP -',\n",
       "  '(1954) Bomb',\n",
       "  'Surface Max: 1.9 km. Land Max: 1.9 km. ']]"
      ]
     },
     "execution_count": 119,
     "metadata": {},
     "output_type": "execute_result"
    }
   ],
   "source": [
    "_list"
   ]
  },
  {
   "cell_type": "code",
   "execution_count": 120,
   "metadata": {
    "ExecuteTime": {
     "end_time": "2020-08-16T19:10:51.847308Z",
     "start_time": "2020-08-16T19:10:51.843150Z"
    }
   },
   "outputs": [
    {
     "data": {
      "text/plain": [
       "9"
      ]
     },
     "execution_count": 120,
     "metadata": {},
     "output_type": "execute_result"
    }
   ],
   "source": [
    "len(_list)"
   ]
  },
  {
   "cell_type": "code",
   "execution_count": 117,
   "metadata": {
    "ExecuteTime": {
     "end_time": "2020-08-16T19:09:43.725698Z",
     "start_time": "2020-08-16T19:09:43.721755Z"
    }
   },
   "outputs": [
    {
     "data": {
      "text/plain": [
       "['330 liter Drop Tank -', ' Drop Tank\\n']"
      ]
     },
     "execution_count": 117,
     "metadata": {},
     "output_type": "execute_result"
    }
   ],
   "source": [
    "_list[0]"
   ]
  },
  {
   "cell_type": "code",
   "execution_count": 7,
   "metadata": {
    "ExecuteTime": {
     "end_time": "2020-08-28T15:35:12.625265Z",
     "start_time": "2020-08-28T15:35:12.618701Z"
    }
   },
   "outputs": [],
   "source": [
    "def read_table_three(soup, table_number):\n",
    "    \n",
    "    flat_list = _read_table(table_number, soup)\n",
    "    \n",
    "    _list = []\n",
    "    dict_keys = []\n",
    "    dict_values = []\n",
    "    \n",
    "    next_line_pattern = '\\\\n[\\\\t]+'\n",
    "    \n",
    "    for i in range(len(flat_list)):\n",
    "        _list_val = flat_list[i]\n",
    "        _sublist = re.split(next_line_pattern, _list_val)\n",
    "        _sublist_2 = _sublist[-1].split(\". \")\n",
    "        _sublist_2 = [i for i in _sublist_2 if i]\n",
    "        _list.append(_sublist)\n",
    "        _list.append(_sublist_2)\n",
    "    \n",
    "    weapon_keys = []\n",
    "    weapon_values = []\n",
    "    \n",
    "    for i in range(len(_sublist_2)):\n",
    "        _sublist_3 = _sublist_2[i].split(\":\")\n",
    "        weapon_key = _sublist_3[0]\n",
    "        weapon_value = _sublist_3[1]\n",
    "        weapon_keys.append(weapon_key)\n",
    "        weapon_values.append(weapon_value)\n",
    "    \n",
    "    for i in range(len(_list)):\n",
    "        dict_keys_template = [f'Weapon {i+1} Name', f'Weapon {i+1} Description']\n",
    "        \n",
    "    dict_keys = dict_keys_template + weapon_keys\n",
    "        \n",
    "    dict_values = _sublist[:2] + weapon_values\n",
    "    \n",
    "    _dict = dict(zip(dict_keys, dict_values))\n",
    "    \n",
    "    df_table_3 = pd.DataFrame().append(_dict, ignore_index=True)\n",
    "    \n",
    "    return df_table_3"
   ]
  },
  {
   "cell_type": "code",
   "execution_count": 9,
   "metadata": {
    "ExecuteTime": {
     "end_time": "2020-08-28T15:35:29.940505Z",
     "start_time": "2020-08-28T15:35:29.931252Z"
    }
   },
   "outputs": [],
   "source": [
    "df_table_3 = read_table_three(soup, 2)"
   ]
  },
  {
   "cell_type": "code",
   "execution_count": 10,
   "metadata": {
    "ExecuteTime": {
     "end_time": "2020-08-28T15:35:34.164111Z",
     "start_time": "2020-08-28T15:35:34.147469Z"
    }
   },
   "outputs": [
    {
     "data": {
      "text/html": [
       "<div>\n",
       "<style scoped>\n",
       "    .dataframe tbody tr th:only-of-type {\n",
       "        vertical-align: middle;\n",
       "    }\n",
       "\n",
       "    .dataframe tbody tr th {\n",
       "        vertical-align: top;\n",
       "    }\n",
       "\n",
       "    .dataframe thead th {\n",
       "        text-align: right;\n",
       "    }\n",
       "</style>\n",
       "<table border=\"1\" class=\"dataframe\">\n",
       "  <thead>\n",
       "    <tr style=\"text-align: right;\">\n",
       "      <th></th>\n",
       "      <th>Land Max</th>\n",
       "      <th>Surface Max</th>\n",
       "      <th>Weapon 6 Description</th>\n",
       "      <th>Weapon 6 Name</th>\n",
       "    </tr>\n",
       "  </thead>\n",
       "  <tbody>\n",
       "    <tr>\n",
       "      <td>0</td>\n",
       "      <td>1.9 km</td>\n",
       "      <td>1.9 km</td>\n",
       "      <td>(1954) Bomb</td>\n",
       "      <td>Mk82 500lb LDGP -</td>\n",
       "    </tr>\n",
       "  </tbody>\n",
       "</table>\n",
       "</div>"
      ],
      "text/plain": [
       "  Land Max Surface Max Weapon 6 Description       Weapon 6 Name\n",
       "0   1.9 km      1.9 km          (1954) Bomb   Mk82 500lb LDGP -"
      ]
     },
     "execution_count": 10,
     "metadata": {},
     "output_type": "execute_result"
    }
   ],
   "source": [
    "df_table_3"
   ]
  },
  {
   "cell_type": "code",
   "execution_count": null,
   "metadata": {},
   "outputs": [],
   "source": []
  },
  {
   "cell_type": "code",
   "execution_count": null,
   "metadata": {},
   "outputs": [],
   "source": []
  },
  {
   "cell_type": "code",
   "execution_count": null,
   "metadata": {},
   "outputs": [],
   "source": []
  },
  {
   "cell_type": "code",
   "execution_count": null,
   "metadata": {},
   "outputs": [],
   "source": []
  },
  {
   "cell_type": "code",
   "execution_count": 12,
   "metadata": {
    "ExecuteTime": {
     "end_time": "2020-08-28T15:41:18.358125Z",
     "start_time": "2020-08-28T15:41:18.355581Z"
    }
   },
   "outputs": [],
   "source": [
    "table_number = 2"
   ]
  },
  {
   "cell_type": "code",
   "execution_count": 30,
   "metadata": {
    "ExecuteTime": {
     "end_time": "2020-08-28T16:08:55.805603Z",
     "start_time": "2020-08-28T16:08:55.801800Z"
    }
   },
   "outputs": [],
   "source": [
    "flat_list = _read_table(table_number, soup)\n",
    "    \n",
    "_list = []\n",
    "dict_keys = []\n",
    "dict_values = []\n",
    "\n",
    "next_line_pattern = '\\\\n[\\\\t]+'"
   ]
  },
  {
   "cell_type": "code",
   "execution_count": 35,
   "metadata": {
    "ExecuteTime": {
     "end_time": "2020-08-28T16:10:13.746697Z",
     "start_time": "2020-08-28T16:10:13.731165Z"
    }
   },
   "outputs": [
    {
     "name": "stderr",
     "output_type": "stream",
     "text": [
      "DEBUG:root:i:0\n",
      "DEBUG:root:_sublist_2:[' Drop Tank\\n']\n",
      "DEBUG:root:i:1\n",
      "DEBUG:root:_sublist_2:['Surface Max: 7.4 km', 'Land Max: 7.4 km']\n",
      "DEBUG:root:weapon_keys: ['Weapon 2 Surface Max']\n",
      "DEBUG:root:weapon_values: [' 7.4 km']\n",
      "DEBUG:root:weapon_keys: ['Weapon 2 Surface Max', 'Weapon 2 Land Max']\n",
      "DEBUG:root:weapon_values: [' 7.4 km', ' 7.4 km']\n",
      "DEBUG:root:i:2\n",
      "DEBUG:root:_sublist_2:['Surface Max: 1.9 km', 'Land Max: 1.9 km']\n",
      "DEBUG:root:weapon_keys: ['Weapon 3 Surface Max']\n",
      "DEBUG:root:weapon_values: [' 1.9 km']\n",
      "DEBUG:root:weapon_keys: ['Weapon 3 Surface Max', 'Weapon 3 Land Max']\n",
      "DEBUG:root:weapon_values: [' 1.9 km', ' 1.9 km']\n"
     ]
    }
   ],
   "source": [
    "for i in range(len(flat_list)):\n",
    "    logging.debug(f\"i:{i}\")\n",
    "    _list_val = flat_list[i]\n",
    "    _sublist = re.split(next_line_pattern, _list_val)\n",
    "    _sublist_2 = _sublist[-1].split(\". \")\n",
    "    _sublist_2 = [i for i in _sublist_2 if i]\n",
    "    _list.append(_sublist)\n",
    "    _list.append(_sublist_2)\n",
    "    \n",
    "    weapon_keys = []\n",
    "    weapon_values = []\n",
    "    \n",
    "    logging.debug(f\"_sublist_2:{_sublist_2}\")\n",
    "    if len(_sublist_2) > 1:\n",
    "        for j in range(len(_sublist_2)):\n",
    "            _sublist_3 = _sublist_2[j].split(\":\")\n",
    "            weapon_key = f\"Weapon {i+1} {_sublist_3[0]}\"\n",
    "            weapon_value = _sublist_3[1]\n",
    "            weapon_keys.append(weapon_key)\n",
    "            weapon_values.append(weapon_value)\n",
    "            logging.debug(f\"weapon_keys: {weapon_keys}\")\n",
    "            logging.debug(f\"weapon_values: {weapon_values}\")"
   ]
  },
  {
   "cell_type": "code",
   "execution_count": null,
   "metadata": {},
   "outputs": [],
   "source": []
  },
  {
   "cell_type": "code",
   "execution_count": null,
   "metadata": {},
   "outputs": [],
   "source": []
  },
  {
   "cell_type": "code",
   "execution_count": null,
   "metadata": {},
   "outputs": [],
   "source": []
  },
  {
   "cell_type": "code",
   "execution_count": null,
   "metadata": {},
   "outputs": [],
   "source": []
  },
  {
   "cell_type": "code",
   "execution_count": null,
   "metadata": {},
   "outputs": [],
   "source": []
  },
  {
   "cell_type": "code",
   "execution_count": 21,
   "metadata": {
    "ExecuteTime": {
     "end_time": "2020-08-28T15:43:07.763367Z",
     "start_time": "2020-08-28T15:43:07.759924Z"
    }
   },
   "outputs": [],
   "source": [
    "weapon_keys = []\n",
    "weapon_values = []\n",
    "\n",
    "for j in range(len(_sublist_2)):\n",
    "    _sublist_3 = _sublist_2[j].split(\":\")\n",
    "    weapon_key = f\"Weapon {i+1} {_sublist_3[0]}\"\n",
    "    weapon_value = _sublist_3[1]\n",
    "    weapon_keys.append(weapon_key)\n",
    "    weapon_values.append(weapon_value)"
   ]
  },
  {
   "cell_type": "code",
   "execution_count": 16,
   "metadata": {
    "ExecuteTime": {
     "end_time": "2020-08-28T15:41:51.953107Z",
     "start_time": "2020-08-28T15:41:51.948804Z"
    }
   },
   "outputs": [
    {
     "data": {
      "text/plain": [
       "[['330 liter Drop Tank -', ' Drop Tank\\n'],\n",
       " [' Drop Tank\\n'],\n",
       " [' GBU-12D/B Paveway II LGB [Mk82] -',\n",
       "  ' Guided Weapon',\n",
       "  'Surface Max: 7.4 km. Land Max: 7.4 km. '],\n",
       " ['Surface Max: 7.4 km', 'Land Max: 7.4 km'],\n",
       " [' Mk82 500lb LDGP -',\n",
       "  '(1954) Bomb',\n",
       "  'Surface Max: 1.9 km. Land Max: 1.9 km. '],\n",
       " ['Surface Max: 1.9 km', 'Land Max: 1.9 km']]"
      ]
     },
     "execution_count": 16,
     "metadata": {},
     "output_type": "execute_result"
    }
   ],
   "source": [
    "_list"
   ]
  },
  {
   "cell_type": "code",
   "execution_count": 24,
   "metadata": {
    "ExecuteTime": {
     "end_time": "2020-08-28T15:43:57.131287Z",
     "start_time": "2020-08-28T15:43:57.127327Z"
    }
   },
   "outputs": [
    {
     "data": {
      "text/plain": [
       "['Surface Max: 1.9 km', 'Land Max: 1.9 km']"
      ]
     },
     "execution_count": 24,
     "metadata": {},
     "output_type": "execute_result"
    }
   ],
   "source": [
    "_sublist_2"
   ]
  },
  {
   "cell_type": "code",
   "execution_count": 22,
   "metadata": {
    "ExecuteTime": {
     "end_time": "2020-08-28T15:43:11.284393Z",
     "start_time": "2020-08-28T15:43:11.280094Z"
    }
   },
   "outputs": [
    {
     "data": {
      "text/plain": [
       "['Weapon 1 Surface Max', 'Weapon 2 Land Max']"
      ]
     },
     "execution_count": 22,
     "metadata": {},
     "output_type": "execute_result"
    }
   ],
   "source": [
    "weapon_keys"
   ]
  },
  {
   "cell_type": "code",
   "execution_count": 23,
   "metadata": {
    "ExecuteTime": {
     "end_time": "2020-08-28T15:43:34.650575Z",
     "start_time": "2020-08-28T15:43:34.646575Z"
    }
   },
   "outputs": [
    {
     "data": {
      "text/plain": [
       "[' 1.9 km', ' 1.9 km']"
      ]
     },
     "execution_count": 23,
     "metadata": {},
     "output_type": "execute_result"
    }
   ],
   "source": [
    "weapon_values"
   ]
  },
  {
   "cell_type": "code",
   "execution_count": null,
   "metadata": {},
   "outputs": [],
   "source": []
  },
  {
   "cell_type": "code",
   "execution_count": null,
   "metadata": {},
   "outputs": [],
   "source": []
  },
  {
   "cell_type": "code",
   "execution_count": 66,
   "metadata": {
    "ExecuteTime": {
     "end_time": "2020-08-28T19:53:07.188093Z",
     "start_time": "2020-08-28T19:53:07.185806Z"
    }
   },
   "outputs": [],
   "source": [
    "table_number = 2"
   ]
  },
  {
   "cell_type": "code",
   "execution_count": null,
   "metadata": {},
   "outputs": [],
   "source": [
    "def read_table_three(soup, table_number):\n",
    "    flat_list = _read_table(table_number, soup)\n",
    "    \n",
    "    _list = []\n",
    "    dict_keys = []\n",
    "    dict_values = []\n",
    "\n",
    "    next_line_pattern = '\\\\n[\\\\t]+'\n",
    "    \n",
    "    for i in range(len(flat_list)):\n",
    "        logging.debug(f\"i:{i}\")\n",
    "        _list_val = flat_list[i]\n",
    "        _sublist = re.split(next_line_pattern, _list_val)\n",
    "        _sublist_2 = _sublist[-1].split(\". \")\n",
    "        _sublist_2 = [i for i in _sublist_2 if i]\n",
    "        _list.append(_sublist)\n",
    "        _list.append(_sublist_2)\n",
    "\n",
    "        weapon_keys = []\n",
    "        weapon_values = []\n",
    "\n",
    "        dict_keys_template = [f'Weapon {i+1} Name', f'Weapon {i+1} Description']\n",
    "        logging.debug(f\"_list:{_list}\")\n",
    "        logging.debug(f\"_sublist_2:{_sublist_2}\")\n",
    "        if len(_sublist_2) > 1:\n",
    "            for j in range(len(_sublist_2)):\n",
    "                _sublist_3 = _sublist_2[j].split(\":\")\n",
    "                weapon_key = f\"Weapon {i+1} {_sublist_3[0]}\"\n",
    "                weapon_value = _sublist_3[1]\n",
    "                weapon_keys.append(weapon_key)\n",
    "                weapon_values.append(weapon_value)\n",
    "                logging.debug(f\"weapon_keys: {weapon_keys}\")\n",
    "                logging.debug(f\"weapon_values: {weapon_values}\")\n",
    "\n",
    "\n",
    "            row_keys = dict_keys_template + weapon_keys\n",
    "            row_values = _sublist[:2] + weapon_values\n",
    "\n",
    "        elif len(_sublist_2) == 1 :\n",
    "            weapon_key = f\"Weapon {i+1}\"\n",
    "            weapon_keys.append(weapon_key)\n",
    "            weapon_value = _sublist_2[0]\n",
    "            weapon_values.append(weapon_value)\n",
    "            logging.debug(f\"weapon_keys: {weapon_keys}\")\n",
    "            logging.debug(f\"weapon_values: {weapon_values}\")\n",
    "\n",
    "            row_keys = dict_keys_template\n",
    "            row_values = _list[i]\n",
    "\n",
    "\n",
    "        dict_keys = dict_keys + row_keys\n",
    "        dict_values = dict_values + row_values\n",
    "        logging.debug(f\"dict_keys: {dict_keys}\")\n",
    "        logging.debug(f\"dict_values: {dict_values}\")\n",
    "    \n",
    "    _dict = dict(zip(dict_keys, dict_values))\n",
    "\n",
    "    df_table_3 = pd.DataFrame().append(_dict, ignore_index=True)\n",
    "    \n",
    "    return df_table_3"
   ]
  },
  {
   "cell_type": "code",
   "execution_count": 67,
   "metadata": {
    "ExecuteTime": {
     "end_time": "2020-08-28T19:53:07.601243Z",
     "start_time": "2020-08-28T19:53:07.597283Z"
    }
   },
   "outputs": [],
   "source": [
    "flat_list = _read_table(table_number, soup)\n",
    "    \n",
    "_list = []\n",
    "dict_keys = []\n",
    "dict_values = []\n",
    "\n",
    "next_line_pattern = '\\\\n[\\\\t]+'\n"
   ]
  },
  {
   "cell_type": "code",
   "execution_count": 68,
   "metadata": {
    "ExecuteTime": {
     "end_time": "2020-08-28T19:53:08.076601Z",
     "start_time": "2020-08-28T19:53:08.047897Z"
    }
   },
   "outputs": [
    {
     "name": "stderr",
     "output_type": "stream",
     "text": [
      "DEBUG:root:i:0\n",
      "DEBUG:root:_list:[['330 liter Drop Tank -', ' Drop Tank\\n'], [' Drop Tank\\n']]\n",
      "DEBUG:root:_sublist_2:[' Drop Tank\\n']\n",
      "DEBUG:root:weapon_keys: ['Weapon 1']\n",
      "DEBUG:root:weapon_values: [' Drop Tank\\n']\n",
      "DEBUG:root:dict_keys: ['Weapon 1 Name', 'Weapon 1 Description']\n",
      "DEBUG:root:dict_values: ['330 liter Drop Tank -', ' Drop Tank\\n']\n",
      "DEBUG:root:i:1\n",
      "DEBUG:root:_list:[['330 liter Drop Tank -', ' Drop Tank\\n'], [' Drop Tank\\n'], [' GBU-12D/B Paveway II LGB [Mk82] -', ' Guided Weapon', 'Surface Max: 7.4 km. Land Max: 7.4 km. '], ['Surface Max: 7.4 km', 'Land Max: 7.4 km']]\n",
      "DEBUG:root:_sublist_2:['Surface Max: 7.4 km', 'Land Max: 7.4 km']\n",
      "DEBUG:root:weapon_keys: ['Weapon 2 Surface Max']\n",
      "DEBUG:root:weapon_values: [' 7.4 km']\n",
      "DEBUG:root:weapon_keys: ['Weapon 2 Surface Max', 'Weapon 2 Land Max']\n",
      "DEBUG:root:weapon_values: [' 7.4 km', ' 7.4 km']\n",
      "DEBUG:root:dict_keys: ['Weapon 1 Name', 'Weapon 1 Description', 'Weapon 2 Name', 'Weapon 2 Description', 'Weapon 2 Surface Max', 'Weapon 2 Land Max']\n",
      "DEBUG:root:dict_values: ['330 liter Drop Tank -', ' Drop Tank\\n', ' GBU-12D/B Paveway II LGB [Mk82] -', ' Guided Weapon', ' 7.4 km', ' 7.4 km']\n",
      "DEBUG:root:i:2\n",
      "DEBUG:root:_list:[['330 liter Drop Tank -', ' Drop Tank\\n'], [' Drop Tank\\n'], [' GBU-12D/B Paveway II LGB [Mk82] -', ' Guided Weapon', 'Surface Max: 7.4 km. Land Max: 7.4 km. '], ['Surface Max: 7.4 km', 'Land Max: 7.4 km'], [' Mk82 500lb LDGP -', '(1954) Bomb', 'Surface Max: 1.9 km. Land Max: 1.9 km. '], ['Surface Max: 1.9 km', 'Land Max: 1.9 km']]\n",
      "DEBUG:root:_sublist_2:['Surface Max: 1.9 km', 'Land Max: 1.9 km']\n",
      "DEBUG:root:weapon_keys: ['Weapon 3 Surface Max']\n",
      "DEBUG:root:weapon_values: [' 1.9 km']\n",
      "DEBUG:root:weapon_keys: ['Weapon 3 Surface Max', 'Weapon 3 Land Max']\n",
      "DEBUG:root:weapon_values: [' 1.9 km', ' 1.9 km']\n",
      "DEBUG:root:dict_keys: ['Weapon 1 Name', 'Weapon 1 Description', 'Weapon 2 Name', 'Weapon 2 Description', 'Weapon 2 Surface Max', 'Weapon 2 Land Max', 'Weapon 3 Name', 'Weapon 3 Description', 'Weapon 3 Surface Max', 'Weapon 3 Land Max']\n",
      "DEBUG:root:dict_values: ['330 liter Drop Tank -', ' Drop Tank\\n', ' GBU-12D/B Paveway II LGB [Mk82] -', ' Guided Weapon', ' 7.4 km', ' 7.4 km', ' Mk82 500lb LDGP -', '(1954) Bomb', ' 1.9 km', ' 1.9 km']\n"
     ]
    }
   ],
   "source": [
    "for i in range(len(flat_list)):\n",
    "    logging.debug(f\"i:{i}\")\n",
    "    _list_val = flat_list[i]\n",
    "    _sublist = re.split(next_line_pattern, _list_val)\n",
    "    _sublist_2 = _sublist[-1].split(\". \")\n",
    "    _sublist_2 = [i for i in _sublist_2 if i]\n",
    "    _list.append(_sublist)\n",
    "    _list.append(_sublist_2)\n",
    "    \n",
    "    weapon_keys = []\n",
    "    weapon_values = []\n",
    "    \n",
    "    dict_keys_template = [f'Weapon {i+1} Name', f'Weapon {i+1} Description']\n",
    "    logging.debug(f\"_list:{_list}\")\n",
    "    logging.debug(f\"_sublist_2:{_sublist_2}\")\n",
    "    if len(_sublist_2) > 1:\n",
    "        for j in range(len(_sublist_2)):\n",
    "            _sublist_3 = _sublist_2[j].split(\":\")\n",
    "            weapon_key = f\"Weapon {i+1} {_sublist_3[0]}\"\n",
    "            weapon_value = _sublist_3[1]\n",
    "            weapon_keys.append(weapon_key)\n",
    "            weapon_values.append(weapon_value)\n",
    "            logging.debug(f\"weapon_keys: {weapon_keys}\")\n",
    "            logging.debug(f\"weapon_values: {weapon_values}\")\n",
    "            \n",
    "        \n",
    "        row_keys = dict_keys_template + weapon_keys\n",
    "        row_values = _sublist[:2] + weapon_values\n",
    "            \n",
    "    elif len(_sublist_2) == 1 :\n",
    "        weapon_key = f\"Weapon {i+1}\"\n",
    "        weapon_keys.append(weapon_key)\n",
    "        weapon_value = _sublist_2[0]\n",
    "        weapon_values.append(weapon_value)\n",
    "        logging.debug(f\"weapon_keys: {weapon_keys}\")\n",
    "        logging.debug(f\"weapon_values: {weapon_values}\")\n",
    "        \n",
    "        row_keys = dict_keys_template\n",
    "        row_values = _list[i]\n",
    "        \n",
    "       \n",
    "    dict_keys = dict_keys + row_keys\n",
    "    dict_values = dict_values + row_values\n",
    "    logging.debug(f\"dict_keys: {dict_keys}\")\n",
    "    logging.debug(f\"dict_values: {dict_values}\")"
   ]
  },
  {
   "cell_type": "code",
   "execution_count": 69,
   "metadata": {
    "ExecuteTime": {
     "end_time": "2020-08-28T19:53:26.307979Z",
     "start_time": "2020-08-28T19:53:26.297112Z"
    }
   },
   "outputs": [],
   "source": [
    "_dict = dict(zip(dict_keys, dict_values))\n",
    "\n",
    "df_table_3 = pd.DataFrame().append(_dict, ignore_index=True)"
   ]
  },
  {
   "cell_type": "code",
   "execution_count": 70,
   "metadata": {
    "ExecuteTime": {
     "end_time": "2020-08-28T19:53:27.019772Z",
     "start_time": "2020-08-28T19:53:27.007977Z"
    }
   },
   "outputs": [
    {
     "data": {
      "text/html": [
       "<div>\n",
       "<style scoped>\n",
       "    .dataframe tbody tr th:only-of-type {\n",
       "        vertical-align: middle;\n",
       "    }\n",
       "\n",
       "    .dataframe tbody tr th {\n",
       "        vertical-align: top;\n",
       "    }\n",
       "\n",
       "    .dataframe thead th {\n",
       "        text-align: right;\n",
       "    }\n",
       "</style>\n",
       "<table border=\"1\" class=\"dataframe\">\n",
       "  <thead>\n",
       "    <tr style=\"text-align: right;\">\n",
       "      <th></th>\n",
       "      <th>Weapon 1 Description</th>\n",
       "      <th>Weapon 1 Name</th>\n",
       "      <th>Weapon 2 Description</th>\n",
       "      <th>Weapon 2 Land Max</th>\n",
       "      <th>Weapon 2 Name</th>\n",
       "      <th>Weapon 2 Surface Max</th>\n",
       "      <th>Weapon 3 Description</th>\n",
       "      <th>Weapon 3 Land Max</th>\n",
       "      <th>Weapon 3 Name</th>\n",
       "      <th>Weapon 3 Surface Max</th>\n",
       "    </tr>\n",
       "  </thead>\n",
       "  <tbody>\n",
       "    <tr>\n",
       "      <td>0</td>\n",
       "      <td>Drop Tank\\n</td>\n",
       "      <td>330 liter Drop Tank -</td>\n",
       "      <td>Guided Weapon</td>\n",
       "      <td>7.4 km</td>\n",
       "      <td>GBU-12D/B Paveway II LGB [Mk82] -</td>\n",
       "      <td>7.4 km</td>\n",
       "      <td>(1954) Bomb</td>\n",
       "      <td>1.9 km</td>\n",
       "      <td>Mk82 500lb LDGP -</td>\n",
       "      <td>1.9 km</td>\n",
       "    </tr>\n",
       "  </tbody>\n",
       "</table>\n",
       "</div>"
      ],
      "text/plain": [
       "  Weapon 1 Description          Weapon 1 Name Weapon 2 Description  \\\n",
       "0          Drop Tank\\n  330 liter Drop Tank -        Guided Weapon   \n",
       "\n",
       "  Weapon 2 Land Max                       Weapon 2 Name Weapon 2 Surface Max  \\\n",
       "0            7.4 km   GBU-12D/B Paveway II LGB [Mk82] -               7.4 km   \n",
       "\n",
       "  Weapon 3 Description Weapon 3 Land Max       Weapon 3 Name  \\\n",
       "0          (1954) Bomb            1.9 km   Mk82 500lb LDGP -   \n",
       "\n",
       "  Weapon 3 Surface Max  \n",
       "0               1.9 km  "
      ]
     },
     "execution_count": 70,
     "metadata": {},
     "output_type": "execute_result"
    }
   ],
   "source": [
    "df_table_3"
   ]
  },
  {
   "cell_type": "code",
   "execution_count": null,
   "metadata": {},
   "outputs": [],
   "source": []
  },
  {
   "cell_type": "code",
   "execution_count": null,
   "metadata": {},
   "outputs": [],
   "source": []
  },
  {
   "cell_type": "code",
   "execution_count": null,
   "metadata": {},
   "outputs": [],
   "source": []
  },
  {
   "cell_type": "code",
   "execution_count": null,
   "metadata": {},
   "outputs": [],
   "source": []
  },
  {
   "cell_type": "code",
   "execution_count": null,
   "metadata": {},
   "outputs": [],
   "source": []
  },
  {
   "cell_type": "code",
   "execution_count": null,
   "metadata": {},
   "outputs": [],
   "source": []
  },
  {
   "cell_type": "code",
   "execution_count": null,
   "metadata": {},
   "outputs": [],
   "source": []
  },
  {
   "cell_type": "code",
   "execution_count": null,
   "metadata": {},
   "outputs": [],
   "source": []
  },
  {
   "cell_type": "code",
   "execution_count": null,
   "metadata": {},
   "outputs": [],
   "source": []
  },
  {
   "cell_type": "code",
   "execution_count": null,
   "metadata": {},
   "outputs": [],
   "source": []
  },
  {
   "cell_type": "code",
   "execution_count": null,
   "metadata": {},
   "outputs": [],
   "source": []
  },
  {
   "cell_type": "code",
   "execution_count": null,
   "metadata": {},
   "outputs": [],
   "source": []
  },
  {
   "cell_type": "code",
   "execution_count": null,
   "metadata": {},
   "outputs": [],
   "source": []
  }
 ],
 "metadata": {
  "kernelspec": {
   "display_name": "Python 3",
   "language": "python",
   "name": "python3"
  },
  "language_info": {
   "codemirror_mode": {
    "name": "ipython",
    "version": 3
   },
   "file_extension": ".py",
   "mimetype": "text/x-python",
   "name": "python",
   "nbconvert_exporter": "python",
   "pygments_lexer": "ipython3",
   "version": "3.6.9"
  },
  "toc": {
   "base_numbering": 1,
   "nav_menu": {},
   "number_sections": true,
   "sideBar": true,
   "skip_h1_title": false,
   "title_cell": "Table of Contents",
   "title_sidebar": "Contents",
   "toc_cell": true,
   "toc_position": {},
   "toc_section_display": true,
   "toc_window_display": false
  },
  "varInspector": {
   "cols": {
    "lenName": 16,
    "lenType": 16,
    "lenVar": 40
   },
   "kernels_config": {
    "python": {
     "delete_cmd_postfix": "",
     "delete_cmd_prefix": "del ",
     "library": "var_list.py",
     "varRefreshCmd": "print(var_dic_list())"
    },
    "r": {
     "delete_cmd_postfix": ") ",
     "delete_cmd_prefix": "rm(",
     "library": "var_list.r",
     "varRefreshCmd": "cat(var_dic_list()) "
    }
   },
   "types_to_exclude": [
    "module",
    "function",
    "builtin_function_or_method",
    "instance",
    "_Feature"
   ],
   "window_display": false
  }
 },
 "nbformat": 4,
 "nbformat_minor": 4
}
