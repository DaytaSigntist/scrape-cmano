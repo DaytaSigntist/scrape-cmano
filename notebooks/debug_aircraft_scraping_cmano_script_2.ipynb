{
 "cells": [
  {
   "cell_type": "markdown",
   "metadata": {
    "toc": true
   },
   "source": [
    "<h1>Table of Contents<span class=\"tocSkip\"></span></h1>\n",
    "<div class=\"toc\"><ul class=\"toc-item\"><li><ul class=\"toc-item\"><li><span><a href=\"#Imports\" data-toc-modified-id=\"Imports-0.1\"><span class=\"toc-item-num\">0.1&nbsp;&nbsp;</span>Imports</a></span></li><li><span><a href=\"#Logging\" data-toc-modified-id=\"Logging-0.2\"><span class=\"toc-item-num\">0.2&nbsp;&nbsp;</span>Logging</a></span></li><li><span><a href=\"#Generic-Script-code\" data-toc-modified-id=\"Generic-Script-code-0.3\"><span class=\"toc-item-num\">0.3&nbsp;&nbsp;</span>Generic Script code</a></span></li><li><span><a href=\"#Get-soup-object-for-problem-URL\" data-toc-modified-id=\"Get-soup-object-for-problem-URL-0.4\"><span class=\"toc-item-num\">0.4&nbsp;&nbsp;</span>Get soup object for problem URL</a></span></li></ul></li><li><span><a href=\"#Problem-Code\" data-toc-modified-id=\"Problem-Code-1\"><span class=\"toc-item-num\">1&nbsp;&nbsp;</span>Problem Code</a></span></li><li><span><a href=\"#Add-checks-to-check-string\" data-toc-modified-id=\"Add-checks-to-check-string-2\"><span class=\"toc-item-num\">2&nbsp;&nbsp;</span>Add checks to check string</a></span></li></ul></div>"
   ]
  },
  {
   "cell_type": "markdown",
   "metadata": {},
   "source": [
    "#### Imports"
   ]
  },
  {
   "cell_type": "code",
   "execution_count": 3,
   "metadata": {
    "ExecuteTime": {
     "end_time": "2020-08-16T14:56:44.387478Z",
     "start_time": "2020-08-16T14:56:43.461943Z"
    }
   },
   "outputs": [],
   "source": [
    "import logging\n",
    "import requests\n",
    "import urllib.request\n",
    "import time\n",
    "from bs4 import BeautifulSoup\n",
    "import pandas as pd\n",
    "import re"
   ]
  },
  {
   "cell_type": "markdown",
   "metadata": {},
   "source": [
    "#### Logging"
   ]
  },
  {
   "cell_type": "code",
   "execution_count": 4,
   "metadata": {
    "ExecuteTime": {
     "end_time": "2020-08-16T14:56:44.402081Z",
     "start_time": "2020-08-16T14:56:44.398064Z"
    }
   },
   "outputs": [],
   "source": [
    "logging.basicConfig(level=logging.DEBUG)"
   ]
  },
  {
   "cell_type": "markdown",
   "metadata": {},
   "source": [
    "#### Generic Script code"
   ]
  },
  {
   "cell_type": "code",
   "execution_count": 5,
   "metadata": {
    "ExecuteTime": {
     "end_time": "2020-08-16T14:56:44.421045Z",
     "start_time": "2020-08-16T14:56:44.418072Z"
    }
   },
   "outputs": [],
   "source": [
    "def _get_response(url):\n",
    "    response = requests.get(url)\n",
    "    return response"
   ]
  },
  {
   "cell_type": "code",
   "execution_count": 6,
   "metadata": {
    "ExecuteTime": {
     "end_time": "2020-08-16T14:56:44.438107Z",
     "start_time": "2020-08-16T14:56:44.434439Z"
    }
   },
   "outputs": [],
   "source": [
    "def get_soup_object(url):\n",
    "    response = _get_response(url)\n",
    "    #Insert logic to check\n",
    "    #if response = 200\n",
    "    soup = BeautifulSoup(response.text, \"html.parser\")\n",
    "    #else handle exceptions\n",
    "    return soup"
   ]
  },
  {
   "cell_type": "code",
   "execution_count": 7,
   "metadata": {
    "ExecuteTime": {
     "end_time": "2020-08-16T14:56:44.626808Z",
     "start_time": "2020-08-16T14:56:44.622399Z"
    }
   },
   "outputs": [],
   "source": [
    "def _read_table(table_number, soup):\n",
    "    table = soup.find_all('table')[table_number-1]\n",
    "    rows = table.find_all('tr')\n",
    "    row_list = list()\n",
    "    for tr in rows:\n",
    "        td = tr.find_all('td')\n",
    "        row = [i.text for i in td]\n",
    "        row_list.append(row)\n",
    "    flat_list = [item for sublist in row_list for item in sublist]\n",
    "    return flat_list"
   ]
  },
  {
   "cell_type": "code",
   "execution_count": 18,
   "metadata": {
    "ExecuteTime": {
     "end_time": "2020-08-16T14:58:39.640825Z",
     "start_time": "2020-08-16T14:58:39.637636Z"
    }
   },
   "outputs": [],
   "source": [
    "def check_pattern_existence(pattern, string):\n",
    "    if re.search(pattern, string):\n",
    "        next_line_indicator = True\n",
    "    else:\n",
    "        next_line_indicator = False\n",
    "    \n",
    "    return next_line_indicator"
   ]
  },
  {
   "cell_type": "markdown",
   "metadata": {},
   "source": [
    "#### Get soup object for problem URL"
   ]
  },
  {
   "cell_type": "code",
   "execution_count": 23,
   "metadata": {
    "ExecuteTime": {
     "end_time": "2020-08-16T15:03:55.630454Z",
     "start_time": "2020-08-16T15:03:55.627698Z"
    }
   },
   "outputs": [],
   "source": [
    "debug_url = 'http://cmano-db.com/aircraft/3953/'#3040/'#3206/'#3953/'"
   ]
  },
  {
   "cell_type": "code",
   "execution_count": 24,
   "metadata": {
    "ExecuteTime": {
     "end_time": "2020-08-16T15:03:56.943825Z",
     "start_time": "2020-08-16T15:03:56.160394Z"
    }
   },
   "outputs": [
    {
     "name": "stderr",
     "output_type": "stream",
     "text": [
      "DEBUG:urllib3.connectionpool:Starting new HTTP connection (1): cmano-db.com:80\n",
      "DEBUG:urllib3.connectionpool:http://cmano-db.com:80 \"GET /aircraft/3953/ HTTP/1.1\" 200 None\n"
     ]
    }
   ],
   "source": [
    "soup = get_soup_object(debug_url)"
   ]
  },
  {
   "cell_type": "markdown",
   "metadata": {},
   "source": [
    "### Problem Code"
   ]
  },
  {
   "cell_type": "code",
   "execution_count": 29,
   "metadata": {
    "ExecuteTime": {
     "end_time": "2020-08-16T15:04:41.634651Z",
     "start_time": "2020-08-16T15:04:41.629647Z"
    }
   },
   "outputs": [
    {
     "name": "stderr",
     "output_type": "stream",
     "text": [
      "DEBUG:root:Length of flat_list is: 1.\n",
      "DEBUG:root:flat_list is: ['450 liter Drop Tank -\\n\\t\\t\\t\\t Drop Tank\\n'].\n"
     ]
    }
   ],
   "source": [
    "table_number = 2\n",
    "\n",
    "flat_list = _read_table(table_number, soup)\n",
    "\n",
    "_list = []\n",
    "dict_keys = []\n",
    "dict_values = []\n",
    "\n",
    "logging.debug(f\"Length of flat_list is: {len(flat_list)}.\")\n",
    "logging.debug(f\"flat_list is: {flat_list}.\")\n",
    "\n",
    "next_line_pattern = '\\\\n[\\\\t]+'\n",
    "max_range_pattern = ' Max Range: '"
   ]
  },
  {
   "cell_type": "code",
   "execution_count": 30,
   "metadata": {
    "ExecuteTime": {
     "end_time": "2020-08-16T15:04:42.059018Z",
     "start_time": "2020-08-16T15:04:42.053834Z"
    }
   },
   "outputs": [
    {
     "name": "stdout",
     "output_type": "stream",
     "text": [
      "[['450 liter Drop Tank -\\n\\t\\t\\t\\t Drop Tank\\n']]\n"
     ]
    }
   ],
   "source": [
    "for i in range(len(flat_list)):\n",
    "    _list_val = flat_list[i]\n",
    "    if check_pattern_existence(max_range_pattern, _list_val) and check_pattern_existence(next_line_pattern, _list_val):\n",
    "        _sublist_2 = _list_val.split(max_range_pattern)\n",
    "        _sublist = re.split(next_line_pattern, _sublist_2[0])\n",
    "        _sublist.append(_sublist_2[1]) #Specific to this context\n",
    "        _list.append(_sublist)\n",
    "    else:\n",
    "        _list.append([_list_val])\n",
    "print(_list)"
   ]
  },
  {
   "cell_type": "code",
   "execution_count": null,
   "metadata": {},
   "outputs": [],
   "source": []
  },
  {
   "cell_type": "code",
   "execution_count": 31,
   "metadata": {
    "ExecuteTime": {
     "end_time": "2020-08-16T15:04:46.103017Z",
     "start_time": "2020-08-16T15:04:46.099841Z"
    }
   },
   "outputs": [],
   "source": [
    "for i in range(len(_list)):\n",
    "    dict_keys_template = [f'Sensor {i+1} Name', f'Sensor {i+1} Type', f'Sensor {i+1} Max Range']\n",
    "    for j in range(len(_list[i])):\n",
    "        dict_keys.append(dict_keys_template[j])\n",
    "        dict_values.append(_list[i][j])"
   ]
  },
  {
   "cell_type": "code",
   "execution_count": 32,
   "metadata": {
    "ExecuteTime": {
     "end_time": "2020-08-16T15:04:49.045558Z",
     "start_time": "2020-08-16T15:04:49.041521Z"
    }
   },
   "outputs": [],
   "source": [
    "_dict = dict(zip(dict_keys, dict_values))"
   ]
  },
  {
   "cell_type": "code",
   "execution_count": 33,
   "metadata": {
    "ExecuteTime": {
     "end_time": "2020-08-16T15:04:49.891360Z",
     "start_time": "2020-08-16T15:04:49.883866Z"
    }
   },
   "outputs": [],
   "source": [
    "df_table_2 = pd.DataFrame().append(_dict, ignore_index=True)"
   ]
  },
  {
   "cell_type": "code",
   "execution_count": 34,
   "metadata": {
    "ExecuteTime": {
     "end_time": "2020-08-16T15:04:50.641735Z",
     "start_time": "2020-08-16T15:04:50.604215Z"
    }
   },
   "outputs": [
    {
     "data": {
      "text/html": [
       "<div>\n",
       "<style scoped>\n",
       "    .dataframe tbody tr th:only-of-type {\n",
       "        vertical-align: middle;\n",
       "    }\n",
       "\n",
       "    .dataframe tbody tr th {\n",
       "        vertical-align: top;\n",
       "    }\n",
       "\n",
       "    .dataframe thead th {\n",
       "        text-align: right;\n",
       "    }\n",
       "</style>\n",
       "<table border=\"1\" class=\"dataframe\">\n",
       "  <thead>\n",
       "    <tr style=\"text-align: right;\">\n",
       "      <th></th>\n",
       "      <th>Sensor 1 Name</th>\n",
       "    </tr>\n",
       "  </thead>\n",
       "  <tbody>\n",
       "    <tr>\n",
       "      <td>0</td>\n",
       "      <td>450 liter Drop Tank -\\n\\t\\t\\t\\t Drop Tank\\n</td>\n",
       "    </tr>\n",
       "  </tbody>\n",
       "</table>\n",
       "</div>"
      ],
      "text/plain": [
       "                                 Sensor 1 Name\n",
       "0  450 liter Drop Tank -\\n\\t\\t\\t\\t Drop Tank\\n"
      ]
     },
     "execution_count": 34,
     "metadata": {},
     "output_type": "execute_result"
    }
   ],
   "source": [
    "df_table_2"
   ]
  },
  {
   "cell_type": "code",
   "execution_count": null,
   "metadata": {},
   "outputs": [],
   "source": []
  },
  {
   "cell_type": "code",
   "execution_count": null,
   "metadata": {},
   "outputs": [],
   "source": []
  },
  {
   "cell_type": "markdown",
   "metadata": {},
   "source": [
    "### Add checks to check string"
   ]
  },
  {
   "cell_type": "code",
   "execution_count": 66,
   "metadata": {
    "ExecuteTime": {
     "end_time": "2020-08-16T14:34:06.869244Z",
     "start_time": "2020-08-16T14:34:06.865172Z"
    }
   },
   "outputs": [
    {
     "data": {
      "text/plain": [
       "['OLS-30 [IRST] - (Izdeliye 52Sh) Infrared\\n\\t\\t\\t\\t\\tIRST, Imaging Infrared Seach and Track Max Range: 185.2 km',\n",
       " 'Tarang Mk.2 - (India, Su-30MKI) ESM\\n\\t\\t\\t\\t\\tRWR, Radar Warning Receiver Max Range: 222.2 km',\n",
       " 'Slot Back [N-011M Bars Mk3] - (Zhuk-27, Su-30MKI) Radar\\n\\t\\t\\t\\t\\tRadar, FCR, Air-to-Air & Air-to-Surface, Long-Range Max Range: 296.3 km',\n",
       " 'OLS-30 [Laser Rangefinder] - (Zhuk-27, Su-30MKI) Laser Rangefinder\\n\\t\\t\\t\\t\\tLaser Rangefinder for Weapon Director Max Range: 0 km',\n",
       " 'SAP-518 - (Russia, 2010+) ECM\\n\\t\\t\\t\\t\\tOECM, Offensive ECM Max Range: 0 km']"
      ]
     },
     "execution_count": 66,
     "metadata": {},
     "output_type": "execute_result"
    }
   ],
   "source": [
    "flat_list"
   ]
  },
  {
   "cell_type": "code",
   "execution_count": 68,
   "metadata": {
    "ExecuteTime": {
     "end_time": "2020-08-16T14:35:08.371038Z",
     "start_time": "2020-08-16T14:35:08.366989Z"
    }
   },
   "outputs": [
    {
     "data": {
      "text/plain": [
       "'OLS-30 [IRST] - (Izdeliye 52Sh) Infrared\\n\\t\\t\\t\\t\\tIRST, Imaging Infrared Seach and Track Max Range: 185.2 km'"
      ]
     },
     "execution_count": 68,
     "metadata": {},
     "output_type": "execute_result"
    }
   ],
   "source": [
    "sub_str = flat_list[0]\n",
    "sub_str"
   ]
  },
  {
   "cell_type": "code",
   "execution_count": 70,
   "metadata": {
    "ExecuteTime": {
     "end_time": "2020-08-16T14:38:08.462006Z",
     "start_time": "2020-08-16T14:38:08.459121Z"
    }
   },
   "outputs": [
    {
     "name": "stdout",
     "output_type": "stream",
     "text": [
      "Yes\n"
     ]
    }
   ],
   "source": [
    "#check if max range parameter exists:\n",
    "if  in sub_str:\n",
    "    print(\"Yes\")\n",
    "else:\n",
    "    print(\"No\")"
   ]
  },
  {
   "cell_type": "code",
   "execution_count": 75,
   "metadata": {
    "ExecuteTime": {
     "end_time": "2020-08-16T14:45:16.418552Z",
     "start_time": "2020-08-16T14:45:16.415629Z"
    }
   },
   "outputs": [],
   "source": [
    "next_line_pattern = '\\\\n[\\\\t]+'\n",
    "max_range_pattern = ' Max Range: '"
   ]
  },
  {
   "cell_type": "code",
   "execution_count": null,
   "metadata": {},
   "outputs": [],
   "source": [
    "def check_pattern_existence(pattern, string):\n",
    "    if re.search(pattern, string):\n",
    "        next_line_indicator = True\n",
    "    else:\n",
    "        next_line_indicator = False\n",
    "    \n",
    "    return next_line_indicator"
   ]
  },
  {
   "cell_type": "code",
   "execution_count": null,
   "metadata": {},
   "outputs": [],
   "source": []
  },
  {
   "cell_type": "code",
   "execution_count": null,
   "metadata": {},
   "outputs": [],
   "source": []
  },
  {
   "cell_type": "code",
   "execution_count": null,
   "metadata": {},
   "outputs": [],
   "source": []
  },
  {
   "cell_type": "code",
   "execution_count": null,
   "metadata": {},
   "outputs": [],
   "source": []
  },
  {
   "cell_type": "code",
   "execution_count": null,
   "metadata": {},
   "outputs": [],
   "source": []
  },
  {
   "cell_type": "code",
   "execution_count": null,
   "metadata": {},
   "outputs": [],
   "source": []
  }
 ],
 "metadata": {
  "kernelspec": {
   "display_name": "Python 3",
   "language": "python",
   "name": "python3"
  },
  "language_info": {
   "codemirror_mode": {
    "name": "ipython",
    "version": 3
   },
   "file_extension": ".py",
   "mimetype": "text/x-python",
   "name": "python",
   "nbconvert_exporter": "python",
   "pygments_lexer": "ipython3",
   "version": "3.6.9"
  },
  "toc": {
   "base_numbering": 1,
   "nav_menu": {},
   "number_sections": true,
   "sideBar": true,
   "skip_h1_title": false,
   "title_cell": "Table of Contents",
   "title_sidebar": "Contents",
   "toc_cell": true,
   "toc_position": {},
   "toc_section_display": true,
   "toc_window_display": false
  },
  "varInspector": {
   "cols": {
    "lenName": 16,
    "lenType": 16,
    "lenVar": 40
   },
   "kernels_config": {
    "python": {
     "delete_cmd_postfix": "",
     "delete_cmd_prefix": "del ",
     "library": "var_list.py",
     "varRefreshCmd": "print(var_dic_list())"
    },
    "r": {
     "delete_cmd_postfix": ") ",
     "delete_cmd_prefix": "rm(",
     "library": "var_list.r",
     "varRefreshCmd": "cat(var_dic_list()) "
    }
   },
   "types_to_exclude": [
    "module",
    "function",
    "builtin_function_or_method",
    "instance",
    "_Feature"
   ],
   "window_display": false
  }
 },
 "nbformat": 4,
 "nbformat_minor": 4
}
