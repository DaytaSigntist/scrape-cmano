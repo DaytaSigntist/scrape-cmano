{
 "cells": [
  {
   "cell_type": "markdown",
   "metadata": {
    "toc": true
   },
   "source": [
    "<h1>Table of Contents<span class=\"tocSkip\"></span></h1>\n",
    "<div class=\"toc\"><ul class=\"toc-item\"><li><span><a href=\"#Imports\" data-toc-modified-id=\"Imports-1\"><span class=\"toc-item-num\">1&nbsp;&nbsp;</span>Imports</a></span><ul class=\"toc-item\"><li><span><a href=\"#Logging\" data-toc-modified-id=\"Logging-1.1\"><span class=\"toc-item-num\">1.1&nbsp;&nbsp;</span>Logging</a></span></li><li><span><a href=\"#Generic-Script-code\" data-toc-modified-id=\"Generic-Script-code-1.2\"><span class=\"toc-item-num\">1.2&nbsp;&nbsp;</span>Generic Script code</a></span></li><li><span><a href=\"#Get-soup-object-for-problem-URL\" data-toc-modified-id=\"Get-soup-object-for-problem-URL-1.3\"><span class=\"toc-item-num\">1.3&nbsp;&nbsp;</span>Get soup object for problem URL</a></span></li><li><span><a href=\"#Problem-Description:\" data-toc-modified-id=\"Problem-Description:-1.4\"><span class=\"toc-item-num\">1.4&nbsp;&nbsp;</span>Problem Description:</a></span></li></ul></li><li><span><a href=\"#Problem-Code\" data-toc-modified-id=\"Problem-Code-2\"><span class=\"toc-item-num\">2&nbsp;&nbsp;</span>Problem Code</a></span></li><li><span><a href=\"#Investigation\" data-toc-modified-id=\"Investigation-3\"><span class=\"toc-item-num\">3&nbsp;&nbsp;</span>Investigation</a></span><ul class=\"toc-item\"><li><span><a href=\"#How-code-is-laid-out-in-main:\" data-toc-modified-id=\"How-code-is-laid-out-in-main:-3.1\"><span class=\"toc-item-num\">3.1&nbsp;&nbsp;</span>How code is laid out in main:</a></span></li></ul></li><li><span><a href=\"#Solution\" data-toc-modified-id=\"Solution-4\"><span class=\"toc-item-num\">4&nbsp;&nbsp;</span>Solution</a></span></li></ul></div>"
   ]
  },
  {
   "cell_type": "markdown",
   "metadata": {},
   "source": [
    "### Imports"
   ]
  },
  {
   "cell_type": "code",
   "execution_count": 2,
   "metadata": {
    "ExecuteTime": {
     "end_time": "2020-08-16T16:35:14.337243Z",
     "start_time": "2020-08-16T16:35:13.280318Z"
    }
   },
   "outputs": [],
   "source": [
    "import logging\n",
    "import requests\n",
    "import urllib.request\n",
    "import time\n",
    "from bs4 import BeautifulSoup\n",
    "import pandas as pd\n",
    "import re"
   ]
  },
  {
   "cell_type": "markdown",
   "metadata": {},
   "source": [
    "#### Logging"
   ]
  },
  {
   "cell_type": "code",
   "execution_count": 3,
   "metadata": {
    "ExecuteTime": {
     "end_time": "2020-08-16T16:35:14.341225Z",
     "start_time": "2020-08-16T16:35:14.338782Z"
    }
   },
   "outputs": [],
   "source": [
    "logging.basicConfig(level=logging.DEBUG)"
   ]
  },
  {
   "cell_type": "markdown",
   "metadata": {},
   "source": [
    "#### Generic Script code"
   ]
  },
  {
   "cell_type": "code",
   "execution_count": 4,
   "metadata": {
    "ExecuteTime": {
     "end_time": "2020-08-16T16:35:14.346649Z",
     "start_time": "2020-08-16T16:35:14.343560Z"
    }
   },
   "outputs": [],
   "source": [
    "def _get_response(url):\n",
    "    response = requests.get(url)\n",
    "    return response"
   ]
  },
  {
   "cell_type": "code",
   "execution_count": 5,
   "metadata": {
    "ExecuteTime": {
     "end_time": "2020-08-16T16:35:14.351656Z",
     "start_time": "2020-08-16T16:35:14.348837Z"
    }
   },
   "outputs": [],
   "source": [
    "def get_soup_object(url):\n",
    "    response = _get_response(url)\n",
    "    #Insert logic to check\n",
    "    #if response = 200\n",
    "    soup = BeautifulSoup(response.text, \"html.parser\")\n",
    "    #else handle exceptions\n",
    "    return soup"
   ]
  },
  {
   "cell_type": "code",
   "execution_count": 6,
   "metadata": {
    "ExecuteTime": {
     "end_time": "2020-08-16T16:35:14.358330Z",
     "start_time": "2020-08-16T16:35:14.354275Z"
    }
   },
   "outputs": [],
   "source": [
    "def _read_table(table_number, soup):\n",
    "    table = soup.find_all('table')[table_number]\n",
    "    rows = table.find_all('tr')\n",
    "    row_list = list()\n",
    "    for tr in rows:\n",
    "        td = tr.find_all('td')\n",
    "        row = [i.text for i in td]\n",
    "        row_list.append(row)\n",
    "    flat_list = [item for sublist in row_list for item in sublist]\n",
    "    return flat_list"
   ]
  },
  {
   "cell_type": "code",
   "execution_count": 7,
   "metadata": {
    "ExecuteTime": {
     "end_time": "2020-08-16T16:35:14.364859Z",
     "start_time": "2020-08-16T16:35:14.361606Z"
    }
   },
   "outputs": [],
   "source": [
    "def check_pattern_existence(pattern, string):\n",
    "    if re.search(pattern, string):\n",
    "        next_line_indicator = True\n",
    "    else:\n",
    "        next_line_indicator = False\n",
    "    \n",
    "    return next_line_indicator"
   ]
  },
  {
   "cell_type": "code",
   "execution_count": 8,
   "metadata": {
    "ExecuteTime": {
     "end_time": "2020-08-16T16:35:14.373664Z",
     "start_time": "2020-08-16T16:35:14.367836Z"
    }
   },
   "outputs": [],
   "source": [
    "def read_table_one(soup, table_number):\n",
    "    \n",
    "    flat_list = _read_table(table_number, soup)\n",
    "    \n",
    "    _list = []\n",
    "    dict_keys = []\n",
    "    dict_values = []\n",
    "    \n",
    "    flat_list = flat_list[:13] #Specific - change them ???????????\n",
    "    \n",
    "    for i in range(len(flat_list)):\n",
    "        _list_val = flat_list[i]\n",
    "        _sublist = _list_val.split(': ') #Specific to this context\n",
    "        _list.append(_sublist)\n",
    "\n",
    "    for i in range(len(_list)):\n",
    "        dict_keys.append(_list[i][0])\n",
    "        dict_values.append(_list[i][1])\n",
    "    \n",
    "    _dict = dict(zip(dict_keys, dict_values))\n",
    "    \n",
    "    df_table_1 = pd.DataFrame().append(_dict, ignore_index=True)\n",
    "    \n",
    "    return df_table_1"
   ]
  },
  {
   "cell_type": "code",
   "execution_count": 9,
   "metadata": {
    "ExecuteTime": {
     "end_time": "2020-08-16T16:35:14.385227Z",
     "start_time": "2020-08-16T16:35:14.376728Z"
    }
   },
   "outputs": [],
   "source": [
    "def read_table_two(soup, table_number):\n",
    "    \n",
    "    flat_list = _read_table(table_number, soup)\n",
    "    \n",
    "    _list = []\n",
    "    dict_keys = []\n",
    "    dict_values = []\n",
    "    \n",
    "    logging.debug(f\"Length of flat_list is: {len(flat_list)}.\")\n",
    "    logging.debug(f\"flat_list is: {flat_list}.\")\n",
    "    \n",
    "    next_line_pattern = '\\\\n[\\\\t]+'\n",
    "    max_range_pattern = ' Max Range: '\n",
    "    \n",
    "    for i in range(len(flat_list)):\n",
    "        _list_val = flat_list[i]\n",
    "        if check_pattern_existence(max_range_pattern, _list_val) and \\\n",
    "        check_pattern_existence(next_line_pattern, _list_val):\n",
    "            _sublist_2 = _list_val.split(' Max Range: ')\n",
    "            _sublist = re.split('\\\\n[\\\\t]+', _sublist_2[0])\n",
    "            _sublist.append(_sublist_2[1]) #Specific to this context\n",
    "            _list.append(_sublist)\n",
    "        else:\n",
    "            _list.append([_list_val])\n",
    "    \n",
    "    for i in range(len(_list)):\n",
    "        dict_keys_template = [f'Sensor {i+1} Name', f'Sensor {i+1} Type', f'Sensor {i+1} Max Range']\n",
    "        for j in range(len(_list[i])):\n",
    "            dict_keys.append(dict_keys_template[j])\n",
    "            dict_values.append(_list[i][j])\n",
    "    \n",
    "    _dict = dict(zip(dict_keys, dict_values))\n",
    "    \n",
    "    df_table_2 = pd.DataFrame().append(_dict, ignore_index=True)\n",
    "    \n",
    "    return df_table_2"
   ]
  },
  {
   "cell_type": "code",
   "execution_count": 10,
   "metadata": {
    "ExecuteTime": {
     "end_time": "2020-08-16T16:35:14.391086Z",
     "start_time": "2020-08-16T16:35:14.387657Z"
    }
   },
   "outputs": [],
   "source": [
    "def _get_table_header(table, index_list, header_list):\n",
    "    \n",
    "    for i in range(len(table)):\n",
    "        header = table[i].find_all('th')\n",
    "        header_string = [i.text for i in header]\n",
    "        index_list.append(i)\n",
    "        header_list.append(header_string)\n",
    "        logging.debug(f\"Index: {i}\")\n",
    "        logging.debug(f\"Header: {header_string}\")\n",
    "    \n",
    "    return index_list, header_list"
   ]
  },
  {
   "cell_type": "code",
   "execution_count": 11,
   "metadata": {
    "ExecuteTime": {
     "end_time": "2020-08-16T16:35:14.398610Z",
     "start_time": "2020-08-16T16:35:14.393513Z"
    }
   },
   "outputs": [],
   "source": [
    "def count_tables_on_page(soup):\n",
    "    table = soup.find_all('table')\n",
    "    number_of_tables = len(table)\n",
    "    logging.debug(f\"There are {number_of_tables} tables on this page.\")\n",
    "    index_list = []\n",
    "    header_list = []\n",
    "    if len(table) > 0:\n",
    "        index_list, header_list = _get_table_header(table, index_list, header_list)\n",
    "    else:\n",
    "        logging.error(f\"No tables found.\")\n",
    "    \n",
    "    table_header_dict = {\"index\": index_list,\n",
    "            \"header\": header_list}\n",
    "    \n",
    "    return number_of_tables, table_header_dict"
   ]
  },
  {
   "cell_type": "markdown",
   "metadata": {},
   "source": [
    "#### Get soup object for problem URL"
   ]
  },
  {
   "cell_type": "code",
   "execution_count": 12,
   "metadata": {
    "ExecuteTime": {
     "end_time": "2020-08-16T16:35:14.403894Z",
     "start_time": "2020-08-16T16:35:14.401606Z"
    }
   },
   "outputs": [],
   "source": [
    "debug_url = 'http://cmano-db.com/aircraft/4354/'#1526/'3040"
   ]
  },
  {
   "cell_type": "code",
   "execution_count": 13,
   "metadata": {
    "ExecuteTime": {
     "end_time": "2020-08-16T16:35:18.003907Z",
     "start_time": "2020-08-16T16:35:14.406318Z"
    }
   },
   "outputs": [
    {
     "name": "stderr",
     "output_type": "stream",
     "text": [
      "DEBUG:urllib3.connectionpool:Starting new HTTP connection (1): cmano-db.com:80\n",
      "DEBUG:urllib3.connectionpool:http://cmano-db.com:80 \"GET /aircraft/4354/ HTTP/1.1\" 200 None\n"
     ]
    }
   ],
   "source": [
    "soup = get_soup_object(debug_url)"
   ]
  },
  {
   "cell_type": "code",
   "execution_count": 14,
   "metadata": {
    "ExecuteTime": {
     "end_time": "2020-08-16T16:35:18.013477Z",
     "start_time": "2020-08-16T16:35:18.005871Z"
    }
   },
   "outputs": [
    {
     "name": "stderr",
     "output_type": "stream",
     "text": [
      "DEBUG:root:There are 3 tables on this page.\n",
      "DEBUG:root:Index: 0\n",
      "DEBUG:root:Header: ['General data:', '']\n",
      "DEBUG:root:Index: 1\n",
      "DEBUG:root:Header: ['Sensors / EW:']\n",
      "DEBUG:root:Index: 2\n",
      "DEBUG:root:Header: ['Weapons / Loadouts:']\n"
     ]
    }
   ],
   "source": [
    "number_of_tables, table_header_dict = count_tables_on_page(soup)"
   ]
  },
  {
   "cell_type": "markdown",
   "metadata": {},
   "source": [
    "#### Problem Description:\n",
    "Need to put in a fix to check if table number 1, 2, 3 even exists?\n",
    "If it doesn't exist, I can not apply any processing to it.\n",
    "\n",
    "Issue was picked up with http://cmano-db.com/aircraft/1526/"
   ]
  },
  {
   "cell_type": "markdown",
   "metadata": {},
   "source": [
    "### Problem Code"
   ]
  },
  {
   "cell_type": "code",
   "execution_count": 17,
   "metadata": {
    "ExecuteTime": {
     "end_time": "2020-08-16T16:47:08.623175Z",
     "start_time": "2020-08-16T16:47:08.620229Z"
    }
   },
   "outputs": [],
   "source": [
    "table = soup.find_all('table')"
   ]
  },
  {
   "cell_type": "code",
   "execution_count": 21,
   "metadata": {
    "ExecuteTime": {
     "end_time": "2020-08-16T16:48:04.138737Z",
     "start_time": "2020-08-16T16:48:04.128485Z"
    },
    "scrolled": true
   },
   "outputs": [
    {
     "data": {
      "text/plain": [
       "<table class=\"table table-striped table-hover\">\n",
       "<thead>\n",
       "<tr>\n",
       "<th><b><u>Weapons / Loadouts:</u></b></th>\n",
       "</tr>\n",
       "</thead>\n",
       "<tbody>\n",
       "<tr><td><b><a href=\"weapon/2650/\">330 liter Drop Tank</a></b> -\n",
       "\t\t\t\t Drop Tank<br/>\n",
       "</td></tr><tr><td> <a class=\"preview pull-right\" href=\"images/DB3000/weapon_1906.jpg\" target=\"_blank\"><i class=\"fa fa-picture-o\"></i></a><b><a href=\"weapon/1906/\">GBU-12D/B Paveway II LGB [Mk82]</a></b> -\n",
       "\t\t\t\t Guided Weapon<br/>\n",
       "\t\t\t\tSurface Max: 7.4 km. Land Max: 7.4 km. </td></tr><tr><td> <a class=\"preview pull-right\" href=\"images/DB3000/weapon_1814.jpg\" target=\"_blank\"><i class=\"fa fa-picture-o\"></i></a><b><a href=\"weapon/1814/\">Mk82 500lb LDGP</a></b> -\n",
       "\t\t\t\t(1954) Bomb<br/>\n",
       "\t\t\t\tSurface Max: 1.9 km. Land Max: 1.9 km. </td></tr> </tbody>\n",
       "</table>"
      ]
     },
     "execution_count": 21,
     "metadata": {},
     "output_type": "execute_result"
    }
   ],
   "source": [
    "table[2]"
   ]
  },
  {
   "cell_type": "code",
   "execution_count": 16,
   "metadata": {
    "ExecuteTime": {
     "end_time": "2020-08-16T16:35:36.341379Z",
     "start_time": "2020-08-16T16:35:36.317078Z"
    }
   },
   "outputs": [
    {
     "name": "stderr",
     "output_type": "stream",
     "text": [
      "DEBUG:root:Table 1 returned successfully.\n",
      "DEBUG:root:Length of flat_list is: 3.\n",
      "DEBUG:root:flat_list is: ['Star Safire III [FLIR] - (Group, AN/AAQ-21/22) Infrared\\n\\t\\t\\t\\t\\t\\tInfrared, Surveillance Camera Max Range: 55.6 km', 'Star Safire III [CCD] - (Group, AN/AAQ-21/22) Visual\\n\\t\\t\\t\\t\\t\\tLLTV, Surveillance Camera Max Range: 55.6 km', 'Star Safire III [Laser Designator] - (Group, AN/AAQ-21/22) Laser Designator\\n\\t\\t\\t\\t\\t\\tLaser Target Designator & Ranger (LTD/R) Max Range: 27.8 km'].\n",
      "DEBUG:root:Table 2 returned successfully.\n"
     ]
    }
   ],
   "source": [
    "for table_number in range(number_of_tables):\n",
    "    _index = table_header_dict['index'][table_number]\n",
    "    _header = table_header_dict['header'][table_number][0]\n",
    "\n",
    "    if _header == \"General data:\":      \n",
    "        df_table_1 = read_table_one(soup, table_number)\n",
    "        logging.debug(f'Table 1 returned successfully.')\n",
    "    elif _header == \"Sensors / EW:\":\n",
    "        df_table_2 = read_table_two(soup, table_number)\n",
    "        logging.debug(f'Table 2 returned successfully.')\n",
    "\n",
    "#     _aircraft_data = combine_tables_into_dataframe(df_table_1, df_table_2)\n",
    "#     logging.debug(f'Table 1 and 2 combined successfully.')"
   ]
  },
  {
   "cell_type": "markdown",
   "metadata": {},
   "source": [
    "### Investigation"
   ]
  },
  {
   "cell_type": "code",
   "execution_count": 14,
   "metadata": {
    "ExecuteTime": {
     "end_time": "2020-08-16T16:15:20.510360Z",
     "start_time": "2020-08-16T16:15:20.490943Z"
    },
    "run_control": {
     "marked": false
    },
    "scrolled": true
   },
   "outputs": [
    {
     "data": {
      "text/plain": [
       "[<table class=\"table table-striped table-hover\">\n",
       " <thead>\n",
       " <tr>\n",
       " <th><b><u>General data:</u></b></th>\n",
       " <th></th>\n",
       " </tr>\n",
       " </thead>\n",
       " <tbody>\n",
       " <tr>\n",
       " <td>Type: Recon</td>\n",
       " <td>Crew: 2</td>\n",
       " </tr>\n",
       " <tr>\n",
       " <td>Min Speed: 230 kt</td>\n",
       " <td>Max Speed: 460 kt</td>\n",
       " </tr>\n",
       " <tr>\n",
       " <td>Wingspan: 12.0 m</td>\n",
       " <td>Height: 3.7 m</td>\n",
       " </tr>\n",
       " <tr>\n",
       " <td>Length: 14.7 m</td>\n",
       " <td>Max Payload: 0 kg</td>\n",
       " </tr>\n",
       " <tr>\n",
       " <td>Empty Weight: 4590 kg</td>\n",
       " <td>Max Weight: 8235 kg</td>\n",
       " </tr>\n",
       " <tr>\n",
       " <td>Operator: Air Force</td>\n",
       " <td>Commissioned: 1980</td>\n",
       " </tr>\n",
       " <tr>\n",
       " <td style=\"max-width: 100px;\">Propulsion: 2x TFE731-2-2B</td>\n",
       " <td>\n",
       " </td>\n",
       " </tr>\n",
       " </tbody>\n",
       " </table>]"
      ]
     },
     "execution_count": 14,
     "metadata": {},
     "output_type": "execute_result"
    }
   ],
   "source": [
    "table = soup.find_all('table')\n",
    "table"
   ]
  },
  {
   "cell_type": "code",
   "execution_count": 15,
   "metadata": {
    "ExecuteTime": {
     "end_time": "2020-08-16T16:15:20.517852Z",
     "start_time": "2020-08-16T16:15:20.513193Z"
    }
   },
   "outputs": [
    {
     "data": {
      "text/plain": [
       "1"
      ]
     },
     "execution_count": 15,
     "metadata": {},
     "output_type": "execute_result"
    }
   ],
   "source": [
    "len(table)"
   ]
  },
  {
   "cell_type": "code",
   "execution_count": 16,
   "metadata": {
    "ExecuteTime": {
     "end_time": "2020-08-16T16:15:20.526915Z",
     "start_time": "2020-08-16T16:15:20.521766Z"
    }
   },
   "outputs": [
    {
     "name": "stdout",
     "output_type": "stream",
     "text": [
      "<class 'bs4.element.ResultSet'>\n",
      "<class 'bs4.element.Tag'>\n"
     ]
    }
   ],
   "source": [
    "print(type(table))\n",
    "print(type(table[0]))"
   ]
  },
  {
   "cell_type": "code",
   "execution_count": 17,
   "metadata": {
    "ExecuteTime": {
     "end_time": "2020-08-16T16:15:20.534645Z",
     "start_time": "2020-08-16T16:15:20.529725Z"
    },
    "scrolled": true
   },
   "outputs": [
    {
     "data": {
      "text/plain": [
       "bs4.element.ResultSet"
      ]
     },
     "execution_count": 17,
     "metadata": {},
     "output_type": "execute_result"
    }
   ],
   "source": [
    "_ = table[0].find_all('th')\n",
    "type(_)"
   ]
  },
  {
   "cell_type": "code",
   "execution_count": 18,
   "metadata": {
    "ExecuteTime": {
     "end_time": "2020-08-16T16:15:20.543313Z",
     "start_time": "2020-08-16T16:15:20.538490Z"
    }
   },
   "outputs": [
    {
     "data": {
      "text/plain": [
       "[<th><b><u>General data:</u></b></th>, <th></th>]"
      ]
     },
     "execution_count": 18,
     "metadata": {},
     "output_type": "execute_result"
    }
   ],
   "source": [
    "_"
   ]
  },
  {
   "cell_type": "code",
   "execution_count": 19,
   "metadata": {
    "ExecuteTime": {
     "end_time": "2020-08-16T16:15:20.551813Z",
     "start_time": "2020-08-16T16:15:20.546017Z"
    }
   },
   "outputs": [
    {
     "data": {
      "text/plain": [
       "[<u>General data:</u>]"
      ]
     },
     "execution_count": 19,
     "metadata": {},
     "output_type": "execute_result"
    }
   ],
   "source": [
    "_[0].find_all('u')"
   ]
  },
  {
   "cell_type": "code",
   "execution_count": 20,
   "metadata": {
    "ExecuteTime": {
     "end_time": "2020-08-16T16:15:20.558459Z",
     "start_time": "2020-08-16T16:15:20.554362Z"
    }
   },
   "outputs": [
    {
     "data": {
      "text/plain": [
       "['General data:', '']"
      ]
     },
     "execution_count": 20,
     "metadata": {},
     "output_type": "execute_result"
    }
   ],
   "source": [
    "header = [i.text for i in _]\n",
    "header"
   ]
  },
  {
   "cell_type": "markdown",
   "metadata": {},
   "source": [
    "#### How code is laid out in main:"
   ]
  },
  {
   "cell_type": "code",
   "execution_count": 33,
   "metadata": {
    "ExecuteTime": {
     "end_time": "2020-08-16T16:18:57.118989Z",
     "start_time": "2020-08-16T16:18:57.110663Z"
    }
   },
   "outputs": [
    {
     "name": "stderr",
     "output_type": "stream",
     "text": [
      "DEBUG:root:There are 3 tables on this page.\n",
      "DEBUG:root:Index: 0\n",
      "DEBUG:root:Header: ['General data:', '']\n",
      "DEBUG:root:Index: 1\n",
      "DEBUG:root:Header: ['Sensors / EW:']\n",
      "DEBUG:root:Index: 2\n",
      "DEBUG:root:Header: ['Weapons / Loadouts:']\n"
     ]
    }
   ],
   "source": [
    "number_of_tables, table_header_dict = count_tables_on_page(soup)"
   ]
  },
  {
   "cell_type": "code",
   "execution_count": 35,
   "metadata": {
    "ExecuteTime": {
     "end_time": "2020-08-16T16:19:24.580719Z",
     "start_time": "2020-08-16T16:19:24.560860Z"
    }
   },
   "outputs": [
    {
     "name": "stderr",
     "output_type": "stream",
     "text": [
      "DEBUG:root:Table 1 returned successfully.\n",
      "DEBUG:root:Length of flat_list is: 1.\n",
      "DEBUG:root:flat_list is: ['China Type 222 - (J-7) Radar\\n\\t\\t\\t\\t\\tRadar, Air Search, 3D Short-Range Max Range: 18.5 km'].\n",
      "DEBUG:root:Table 2 returned successfully.\n"
     ]
    }
   ],
   "source": [
    "for i in range(number_of_tables):\n",
    "    _index = table_header_dict['index'][i]\n",
    "    _header = table_header_dict['header'][i][0]\n",
    "    \n",
    "    if _header == \"General data:\":\n",
    "        df_table_1 = read_table_one(soup, table_number = i)\n",
    "        logging.debug(f'Table 1 returned successfully.')\n",
    "    elif _header == \"Sensors / EW:\":\n",
    "        df_table_2 = read_table_two(soup, table_number = i)\n",
    "        logging.debug(f'Table 2 returned successfully.')\n",
    "        "
   ]
  },
  {
   "cell_type": "code",
   "execution_count": null,
   "metadata": {},
   "outputs": [],
   "source": [
    "df_table_1 = read_table_one(soup)\n",
    "logging.debug(f'Table 1 returned successfully.')\n",
    "df_table_2 = read_table_two(soup)\n",
    "logging.debug(f'Table 2 returned successfully.')"
   ]
  },
  {
   "cell_type": "code",
   "execution_count": 79,
   "metadata": {
    "ExecuteTime": {
     "end_time": "2020-08-16T16:05:08.369229Z",
     "start_time": "2020-08-16T16:05:08.358889Z"
    }
   },
   "outputs": [
    {
     "name": "stderr",
     "output_type": "stream",
     "text": [
      "DEBUG:root:Table 1 returned successfully.\n"
     ]
    }
   ],
   "source": []
  },
  {
   "cell_type": "code",
   "execution_count": 80,
   "metadata": {
    "ExecuteTime": {
     "end_time": "2020-08-16T16:05:08.990637Z",
     "start_time": "2020-08-16T16:05:08.967555Z"
    }
   },
   "outputs": [
    {
     "ename": "IndexError",
     "evalue": "list index out of range",
     "output_type": "error",
     "traceback": [
      "\u001b[0;31m---------------------------------------------------------------------------\u001b[0m",
      "\u001b[0;31mIndexError\u001b[0m                                Traceback (most recent call last)",
      "\u001b[0;32m<ipython-input-80-446d35a362b6>\u001b[0m in \u001b[0;36m<module>\u001b[0;34m\u001b[0m\n\u001b[0;32m----> 1\u001b[0;31m \u001b[0mdf_table_2\u001b[0m \u001b[0;34m=\u001b[0m \u001b[0mread_table_two\u001b[0m\u001b[0;34m(\u001b[0m\u001b[0msoup\u001b[0m\u001b[0;34m)\u001b[0m\u001b[0;34m\u001b[0m\u001b[0;34m\u001b[0m\u001b[0m\n\u001b[0m\u001b[1;32m      2\u001b[0m \u001b[0mlogging\u001b[0m\u001b[0;34m.\u001b[0m\u001b[0mdebug\u001b[0m\u001b[0;34m(\u001b[0m\u001b[0;34mf'Table 2 returned successfully.'\u001b[0m\u001b[0;34m)\u001b[0m\u001b[0;34m\u001b[0m\u001b[0;34m\u001b[0m\u001b[0m\n",
      "\u001b[0;32m<ipython-input-65-844e3d130f98>\u001b[0m in \u001b[0;36mread_table_two\u001b[0;34m(soup)\u001b[0m\n\u001b[1;32m      3\u001b[0m     \u001b[0mtable_number\u001b[0m \u001b[0;34m=\u001b[0m \u001b[0;36m2\u001b[0m\u001b[0;34m\u001b[0m\u001b[0;34m\u001b[0m\u001b[0m\n\u001b[1;32m      4\u001b[0m \u001b[0;34m\u001b[0m\u001b[0m\n\u001b[0;32m----> 5\u001b[0;31m     \u001b[0mflat_list\u001b[0m \u001b[0;34m=\u001b[0m \u001b[0m_read_table\u001b[0m\u001b[0;34m(\u001b[0m\u001b[0mtable_number\u001b[0m\u001b[0;34m,\u001b[0m \u001b[0msoup\u001b[0m\u001b[0;34m)\u001b[0m\u001b[0;34m\u001b[0m\u001b[0;34m\u001b[0m\u001b[0m\n\u001b[0m\u001b[1;32m      6\u001b[0m \u001b[0;34m\u001b[0m\u001b[0m\n\u001b[1;32m      7\u001b[0m     \u001b[0m_list\u001b[0m \u001b[0;34m=\u001b[0m \u001b[0;34m[\u001b[0m\u001b[0;34m]\u001b[0m\u001b[0;34m\u001b[0m\u001b[0;34m\u001b[0m\u001b[0m\n",
      "\u001b[0;32m<ipython-input-7-5ae59d7cfa69>\u001b[0m in \u001b[0;36m_read_table\u001b[0;34m(table_number, soup)\u001b[0m\n\u001b[1;32m      1\u001b[0m \u001b[0;32mdef\u001b[0m \u001b[0m_read_table\u001b[0m\u001b[0;34m(\u001b[0m\u001b[0mtable_number\u001b[0m\u001b[0;34m,\u001b[0m \u001b[0msoup\u001b[0m\u001b[0;34m)\u001b[0m\u001b[0;34m:\u001b[0m\u001b[0;34m\u001b[0m\u001b[0;34m\u001b[0m\u001b[0m\n\u001b[0;32m----> 2\u001b[0;31m     \u001b[0mtable\u001b[0m \u001b[0;34m=\u001b[0m \u001b[0msoup\u001b[0m\u001b[0;34m.\u001b[0m\u001b[0mfind_all\u001b[0m\u001b[0;34m(\u001b[0m\u001b[0;34m'table'\u001b[0m\u001b[0;34m)\u001b[0m\u001b[0;34m[\u001b[0m\u001b[0mtable_number\u001b[0m\u001b[0;34m-\u001b[0m\u001b[0;36m1\u001b[0m\u001b[0;34m]\u001b[0m\u001b[0;34m\u001b[0m\u001b[0;34m\u001b[0m\u001b[0m\n\u001b[0m\u001b[1;32m      3\u001b[0m     \u001b[0mrows\u001b[0m \u001b[0;34m=\u001b[0m \u001b[0mtable\u001b[0m\u001b[0;34m.\u001b[0m\u001b[0mfind_all\u001b[0m\u001b[0;34m(\u001b[0m\u001b[0;34m'tr'\u001b[0m\u001b[0;34m)\u001b[0m\u001b[0;34m\u001b[0m\u001b[0;34m\u001b[0m\u001b[0m\n\u001b[1;32m      4\u001b[0m     \u001b[0mrow_list\u001b[0m \u001b[0;34m=\u001b[0m \u001b[0mlist\u001b[0m\u001b[0;34m(\u001b[0m\u001b[0;34m)\u001b[0m\u001b[0;34m\u001b[0m\u001b[0;34m\u001b[0m\u001b[0m\n\u001b[1;32m      5\u001b[0m     \u001b[0;32mfor\u001b[0m \u001b[0mtr\u001b[0m \u001b[0;32min\u001b[0m \u001b[0mrows\u001b[0m\u001b[0;34m:\u001b[0m\u001b[0;34m\u001b[0m\u001b[0;34m\u001b[0m\u001b[0m\n",
      "\u001b[0;31mIndexError\u001b[0m: list index out of range"
     ]
    }
   ],
   "source": []
  },
  {
   "cell_type": "code",
   "execution_count": null,
   "metadata": {},
   "outputs": [],
   "source": []
  },
  {
   "cell_type": "code",
   "execution_count": null,
   "metadata": {},
   "outputs": [],
   "source": []
  },
  {
   "cell_type": "markdown",
   "metadata": {},
   "source": [
    "### Solution"
   ]
  },
  {
   "cell_type": "code",
   "execution_count": 47,
   "metadata": {
    "ExecuteTime": {
     "end_time": "2020-08-16T15:34:04.148621Z",
     "start_time": "2020-08-16T15:34:04.144515Z"
    }
   },
   "outputs": [
    {
     "data": {
      "text/plain": [
       "3"
      ]
     },
     "execution_count": 47,
     "metadata": {},
     "output_type": "execute_result"
    }
   ],
   "source": [
    "table = soup.find_all('table')\n",
    "len(table)"
   ]
  },
  {
   "cell_type": "code",
   "execution_count": 53,
   "metadata": {
    "ExecuteTime": {
     "end_time": "2020-08-16T15:41:45.488886Z",
     "start_time": "2020-08-16T15:41:45.485919Z"
    }
   },
   "outputs": [],
   "source": [
    "index_list = []\n",
    "header_list = []"
   ]
  },
  {
   "cell_type": "code",
   "execution_count": 54,
   "metadata": {
    "ExecuteTime": {
     "end_time": "2020-08-16T15:42:18.119941Z",
     "start_time": "2020-08-16T15:42:18.111869Z"
    }
   },
   "outputs": [
    {
     "name": "stderr",
     "output_type": "stream",
     "text": [
      "INFO:root:Index: 0\n",
      "INFO:root:Header: ['General data:', '']\n",
      "INFO:root:Index: 1\n",
      "INFO:root:Header: ['Sensors / EW:']\n",
      "INFO:root:Index: 2\n",
      "INFO:root:Header: ['Weapons / Loadouts:']\n"
     ]
    }
   ],
   "source": [
    "for i in range(len(table)):\n",
    "    header = table[i].find_all('th')\n",
    "    header_string = [i.text for i in header]\n",
    "    index_list.append(i)\n",
    "    header_list.append(header_string)\n",
    "    logging.info(f\"Index: {i}\")\n",
    "    logging.info(f\"Header: {header_string}\")"
   ]
  },
  {
   "cell_type": "code",
   "execution_count": 55,
   "metadata": {
    "ExecuteTime": {
     "end_time": "2020-08-16T15:42:46.144428Z",
     "start_time": "2020-08-16T15:42:46.142358Z"
    }
   },
   "outputs": [],
   "source": [
    "_ = {\"index\": index_list,\n",
    "    \"header\": header_list}"
   ]
  },
  {
   "cell_type": "code",
   "execution_count": null,
   "metadata": {},
   "outputs": [],
   "source": [
    "def count_tables_on_page(soup):\n",
    "    table = soup.find_all('table')\n",
    "    logging.debug(f\"There are {len(table)} tables on this page.\")\n",
    "\n",
    "    if len(table) > 0:\n",
    "        index_list, header_list = _get_table_header(table)\n",
    "    else:\n",
    "        index_list = []\n",
    "        header_list = []\n",
    "        logging.error(f\"No tables found.\")\n",
    "    \n",
    "    table_header_dict = {\"index\": index_list,\n",
    "            \"header\": header_list}\n",
    "    \n",
    "    return table_header_dict"
   ]
  },
  {
   "cell_type": "code",
   "execution_count": null,
   "metadata": {},
   "outputs": [],
   "source": [
    "def _get_table_header(table):\n",
    "    for i in range(len(table)):\n",
    "        header = table[i].find_all('th')\n",
    "        header_string = [i.text for i in header]\n",
    "        index_list.append(i)\n",
    "        header_list.append(header_string)\n",
    "        logging.debug(f\"Index: {i}\")\n",
    "        logging.debug(f\"Header: {header_string}\")\n",
    "    \n",
    "    return index_list, header_list"
   ]
  },
  {
   "cell_type": "code",
   "execution_count": 58,
   "metadata": {
    "ExecuteTime": {
     "end_time": "2020-08-16T15:43:13.642901Z",
     "start_time": "2020-08-16T15:43:13.639016Z"
    }
   },
   "outputs": [
    {
     "data": {
      "text/plain": [
       "0"
      ]
     },
     "execution_count": 58,
     "metadata": {},
     "output_type": "execute_result"
    }
   ],
   "source": [
    "_['index'][0]"
   ]
  },
  {
   "cell_type": "code",
   "execution_count": 63,
   "metadata": {
    "ExecuteTime": {
     "end_time": "2020-08-16T15:43:48.758572Z",
     "start_time": "2020-08-16T15:43:48.753770Z"
    }
   },
   "outputs": [
    {
     "data": {
      "text/plain": [
       "'Sensors / EW:'"
      ]
     },
     "execution_count": 63,
     "metadata": {},
     "output_type": "execute_result"
    }
   ],
   "source": [
    "_['header'][1][0]"
   ]
  },
  {
   "cell_type": "code",
   "execution_count": null,
   "metadata": {},
   "outputs": [],
   "source": []
  }
 ],
 "metadata": {
  "kernelspec": {
   "display_name": "Python 3",
   "language": "python",
   "name": "python3"
  },
  "language_info": {
   "codemirror_mode": {
    "name": "ipython",
    "version": 3
   },
   "file_extension": ".py",
   "mimetype": "text/x-python",
   "name": "python",
   "nbconvert_exporter": "python",
   "pygments_lexer": "ipython3",
   "version": "3.6.9"
  },
  "toc": {
   "base_numbering": 1,
   "nav_menu": {},
   "number_sections": true,
   "sideBar": true,
   "skip_h1_title": false,
   "title_cell": "Table of Contents",
   "title_sidebar": "Contents",
   "toc_cell": true,
   "toc_position": {},
   "toc_section_display": true,
   "toc_window_display": false
  },
  "varInspector": {
   "cols": {
    "lenName": 16,
    "lenType": 16,
    "lenVar": 40
   },
   "kernels_config": {
    "python": {
     "delete_cmd_postfix": "",
     "delete_cmd_prefix": "del ",
     "library": "var_list.py",
     "varRefreshCmd": "print(var_dic_list())"
    },
    "r": {
     "delete_cmd_postfix": ") ",
     "delete_cmd_prefix": "rm(",
     "library": "var_list.r",
     "varRefreshCmd": "cat(var_dic_list()) "
    }
   },
   "types_to_exclude": [
    "module",
    "function",
    "builtin_function_or_method",
    "instance",
    "_Feature"
   ],
   "window_display": false
  }
 },
 "nbformat": 4,
 "nbformat_minor": 4
}
