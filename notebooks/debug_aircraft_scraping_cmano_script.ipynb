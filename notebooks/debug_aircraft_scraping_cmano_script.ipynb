{
 "cells": [
  {
   "cell_type": "markdown",
   "metadata": {},
   "source": [
    "#### Imports"
   ]
  },
  {
   "cell_type": "code",
   "execution_count": 1,
   "metadata": {
    "ExecuteTime": {
     "end_time": "2020-04-13T08:58:14.893109Z",
     "start_time": "2020-04-13T08:58:14.291311Z"
    }
   },
   "outputs": [],
   "source": [
    "import logging\n",
    "import requests\n",
    "import urllib.request\n",
    "import time\n",
    "from bs4 import BeautifulSoup\n",
    "import pandas as pd"
   ]
  },
  {
   "cell_type": "markdown",
   "metadata": {},
   "source": [
    "#### Logging"
   ]
  },
  {
   "cell_type": "code",
   "execution_count": 2,
   "metadata": {
    "ExecuteTime": {
     "end_time": "2020-04-13T08:58:20.173651Z",
     "start_time": "2020-04-13T08:58:20.170868Z"
    }
   },
   "outputs": [],
   "source": [
    "logging.basicConfig(level=logging.DEBUG)"
   ]
  },
  {
   "cell_type": "markdown",
   "metadata": {},
   "source": [
    "#### Generic Script code"
   ]
  },
  {
   "cell_type": "code",
   "execution_count": 3,
   "metadata": {
    "ExecuteTime": {
     "end_time": "2020-04-13T08:58:47.505173Z",
     "start_time": "2020-04-13T08:58:47.502465Z"
    }
   },
   "outputs": [],
   "source": [
    "def _get_response(url):\n",
    "    response = requests.get(url)\n",
    "    return response"
   ]
  },
  {
   "cell_type": "code",
   "execution_count": 4,
   "metadata": {
    "ExecuteTime": {
     "end_time": "2020-04-13T08:58:52.767555Z",
     "start_time": "2020-04-13T08:58:52.764655Z"
    }
   },
   "outputs": [],
   "source": [
    "def get_soup_object(url):\n",
    "    response = _get_response(url)\n",
    "    #Insert logic to check\n",
    "    #if response = 200\n",
    "    soup = BeautifulSoup(response.text, \"html.parser\")\n",
    "    #else handle exceptions\n",
    "    return soup"
   ]
  },
  {
   "cell_type": "code",
   "execution_count": 10,
   "metadata": {
    "ExecuteTime": {
     "end_time": "2020-04-13T09:03:40.822996Z",
     "start_time": "2020-04-13T09:03:40.819103Z"
    }
   },
   "outputs": [],
   "source": [
    "def _read_table(table_number, soup):\n",
    "    table = soup.find_all('table')[table_number-1]\n",
    "    rows = table.find_all('tr')\n",
    "    row_list = list()\n",
    "    for tr in rows:\n",
    "        td = tr.find_all('td')\n",
    "        row = [i.text for i in td]\n",
    "        row_list.append(row)\n",
    "    flat_list = [item for sublist in row_list for item in sublist]\n",
    "    return flat_list"
   ]
  },
  {
   "cell_type": "markdown",
   "metadata": {},
   "source": [
    "#### Get soup object for problem URL"
   ]
  },
  {
   "cell_type": "code",
   "execution_count": 7,
   "metadata": {
    "ExecuteTime": {
     "end_time": "2020-04-13T09:01:57.869063Z",
     "start_time": "2020-04-13T09:01:57.866549Z"
    }
   },
   "outputs": [],
   "source": [
    "debug_url = 'http://cmano-db.com/aircraft/3953/'"
   ]
  },
  {
   "cell_type": "code",
   "execution_count": 8,
   "metadata": {
    "ExecuteTime": {
     "end_time": "2020-04-13T09:01:58.834607Z",
     "start_time": "2020-04-13T09:01:58.358207Z"
    }
   },
   "outputs": [
    {
     "name": "stderr",
     "output_type": "stream",
     "text": [
      "DEBUG:urllib3.connectionpool:Starting new HTTP connection (1): cmano-db.com:80\n",
      "DEBUG:urllib3.connectionpool:http://cmano-db.com:80 \"GET /aircraft/3953/ HTTP/1.1\" 200 None\n"
     ]
    }
   ],
   "source": [
    "soup = get_soup_object(debug_url)"
   ]
  },
  {
   "cell_type": "markdown",
   "metadata": {},
   "source": [
    "### Problem Code"
   ]
  },
  {
   "cell_type": "code",
   "execution_count": 13,
   "metadata": {
    "ExecuteTime": {
     "end_time": "2020-04-13T09:04:40.543572Z",
     "start_time": "2020-04-13T09:04:40.538708Z"
    }
   },
   "outputs": [
    {
     "name": "stderr",
     "output_type": "stream",
     "text": [
      "DEBUG:root:The flat list is: ['450 liter Drop Tank -\\n\\t\\t\\t\\t Drop Tank\\n']\n"
     ]
    }
   ],
   "source": [
    "table_number = 2\n",
    "flat_list = _read_table(table_number, soup)\n",
    "_list = []\n",
    "dict_keys = []\n",
    "dict_values = []\n",
    "logging.debug(f'The flat list is: {flat_list}')"
   ]
  },
  {
   "cell_type": "code",
   "execution_count": 16,
   "metadata": {
    "ExecuteTime": {
     "end_time": "2020-04-13T09:10:17.760451Z",
     "start_time": "2020-04-13T09:10:17.747726Z"
    }
   },
   "outputs": [
    {
     "name": "stderr",
     "output_type": "stream",
     "text": [
      "DEBUG:root:_list_val is: 450 liter Drop Tank -\n",
      "\t\t\t\t Drop Tank\n",
      "\n",
      "DEBUG:root:_sublist_2 is: ['450 liter Drop Tank -\\n\\t\\t\\t\\t Drop Tank\\n']\n",
      "DEBUG:root:_sublist is: ['450 liter Drop Tank -', ' Drop Tank\\n']\n"
     ]
    },
    {
     "ename": "IndexError",
     "evalue": "list index out of range",
     "output_type": "error",
     "traceback": [
      "\u001b[0;31m---------------------------------------------------------------------------\u001b[0m",
      "\u001b[0;31mIndexError\u001b[0m                                Traceback (most recent call last)",
      "\u001b[0;32m<ipython-input-16-64a8a392acf5>\u001b[0m in \u001b[0;36m<module>\u001b[0;34m\u001b[0m\n\u001b[1;32m     10\u001b[0m     \u001b[0mlogging\u001b[0m\u001b[0;34m.\u001b[0m\u001b[0mdebug\u001b[0m\u001b[0;34m(\u001b[0m\u001b[0;34mf'_sublist is: {_sublist}'\u001b[0m\u001b[0;34m)\u001b[0m\u001b[0;34m\u001b[0m\u001b[0;34m\u001b[0m\u001b[0m\n\u001b[1;32m     11\u001b[0m \u001b[0;34m\u001b[0m\u001b[0m\n\u001b[0;32m---> 12\u001b[0;31m     \u001b[0m_sublist\u001b[0m\u001b[0;34m.\u001b[0m\u001b[0mappend\u001b[0m\u001b[0;34m(\u001b[0m\u001b[0m_sublist_2\u001b[0m\u001b[0;34m[\u001b[0m\u001b[0;36m1\u001b[0m\u001b[0;34m]\u001b[0m\u001b[0;34m)\u001b[0m \u001b[0;31m#Specific to this context\u001b[0m\u001b[0;34m\u001b[0m\u001b[0;34m\u001b[0m\u001b[0m\n\u001b[0m\u001b[1;32m     13\u001b[0m     \u001b[0mlogging\u001b[0m\u001b[0;34m.\u001b[0m\u001b[0mdebug\u001b[0m\u001b[0;34m(\u001b[0m\u001b[0;34mf'_sublist is: {_sublist}'\u001b[0m\u001b[0;34m)\u001b[0m\u001b[0;34m\u001b[0m\u001b[0;34m\u001b[0m\u001b[0m\n\u001b[1;32m     14\u001b[0m \u001b[0;34m\u001b[0m\u001b[0m\n",
      "\u001b[0;31mIndexError\u001b[0m: list index out of range"
     ]
    }
   ],
   "source": [
    "for i in range(len(flat_list)):\n",
    "    _list_val = flat_list[i]\n",
    "    logging.debug(f'_list_val is: {_list_val}')\n",
    "    \n",
    "    _sublist_2 = _list_val.split(' Max Range: ')\n",
    "    logging.debug(f'_sublist_2 is: {_sublist_2}')\n",
    "    \n",
    "#     _sublist = _sublist_2[0].split('\\n\\t\\t\\t\\t\\t\\t')\n",
    "    _sublist = _sublist_2[0].split('\\n\\t\\t\\t\\t')\n",
    "    logging.debug(f'_sublist is: {_sublist}')\n",
    "    \n",
    "    _sublist.append(_sublist_2[1]) #Specific to this context\n",
    "    logging.debug(f'_sublist is: {_sublist}')\n",
    "    \n",
    "    _list.append(_sublist)\n",
    "    logging.debug(f'_list is: {_list}')"
   ]
  },
  {
   "cell_type": "code",
   "execution_count": null,
   "metadata": {},
   "outputs": [],
   "source": [
    "for i in range(len(_list)):\n",
    "    dict_keys_template = [f'Sensor {i+1} Name', f'Sensor {i+1} Type', f'Sensor {i+1} Max Range']\n",
    "    for j in range(len(_list[i])):\n",
    "        dict_keys.append(dict_keys_template[j])\n",
    "        dict_values.append(_list[i][j])"
   ]
  },
  {
   "cell_type": "code",
   "execution_count": null,
   "metadata": {},
   "outputs": [],
   "source": [
    "_dict = dict(zip(dict_keys, dict_values))"
   ]
  },
  {
   "cell_type": "code",
   "execution_count": null,
   "metadata": {},
   "outputs": [],
   "source": [
    "df_table_2 = pd.DataFrame().append(_dict, ignore_index=True)"
   ]
  },
  {
   "cell_type": "code",
   "execution_count": null,
   "metadata": {},
   "outputs": [],
   "source": []
  }
 ],
 "metadata": {
  "kernelspec": {
   "display_name": "Python 3",
   "language": "python",
   "name": "python3"
  },
  "language_info": {
   "codemirror_mode": {
    "name": "ipython",
    "version": 3
   },
   "file_extension": ".py",
   "mimetype": "text/x-python",
   "name": "python",
   "nbconvert_exporter": "python",
   "pygments_lexer": "ipython3",
   "version": "3.6.9"
  },
  "varInspector": {
   "cols": {
    "lenName": 16,
    "lenType": 16,
    "lenVar": 40
   },
   "kernels_config": {
    "python": {
     "delete_cmd_postfix": "",
     "delete_cmd_prefix": "del ",
     "library": "var_list.py",
     "varRefreshCmd": "print(var_dic_list())"
    },
    "r": {
     "delete_cmd_postfix": ") ",
     "delete_cmd_prefix": "rm(",
     "library": "var_list.r",
     "varRefreshCmd": "cat(var_dic_list()) "
    }
   },
   "types_to_exclude": [
    "module",
    "function",
    "builtin_function_or_method",
    "instance",
    "_Feature"
   ],
   "window_display": false
  }
 },
 "nbformat": 4,
 "nbformat_minor": 4
}
